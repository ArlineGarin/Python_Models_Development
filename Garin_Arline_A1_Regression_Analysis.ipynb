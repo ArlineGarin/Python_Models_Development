{
 "cells": [
  {
   "cell_type": "markdown",
   "metadata": {},
   "source": [
    "<hr style=\"height:.9px;border:none;color:#333;background-color:#333;\" />\n",
    "<hr style=\"height:.9px;border:none;color:#333;background-color:#333;\" />\n",
    "\n",
    "<br><h1>Case Challenge Part I</h1>\n",
    "<b>DAT-5303 | Machine Learning</b><br>\n",
    "Arline Garin<br>\n",
    "Hult International Business School<br><br><br>\n",
    "\n",
    "<hr style=\"height:.9px;border:none;color:#333;background-color:#333;\" />\n",
    "<hr style=\"height:.9px;border:none;color:#333;background-color:#333;\" />\n",
    "\n",
    "<br>"
   ]
  },
  {
   "cell_type": "markdown",
   "metadata": {},
   "source": [
    "Note: To ensure a code running time efficient and below 60 seconds, a majority of outputs have been transformed to comments inside code cells! "
   ]
  },
  {
   "cell_type": "code",
   "execution_count": 1,
   "metadata": {},
   "outputs": [],
   "source": [
    "# Importing libraries \n",
    "import pandas as pd\n",
    "import numpy as np\n",
    "import matplotlib.pyplot as plt\n",
    "import seaborn as sns\n",
    "import statsmodels.formula.api as smf\n",
    "from sklearn.model_selection import train_test_split\n",
    "from sklearn.linear_model import LinearRegression\n",
    "import sklearn.linear_model\n",
    "from sklearn.neighbors import KNeighborsRegressor\n",
    "from sklearn.preprocessing import StandardScaler\n",
    "\n",
    "# setting pandas print options\n",
    "pd.set_option('display.max_rows', 500)\n",
    "pd.set_option('display.max_columns', 500)\n",
    "pd.set_option('display.width', 1000)\n",
    "\n",
    "\n",
    "# specifying the path and file name\n",
    "file = './Apprentice_Chef_Dataset.xlsx'\n",
    "\n",
    "\n",
    "# reading the file into Python\n",
    "chef = pd.read_excel(io = file)"
   ]
  },
  {
   "cell_type": "code",
   "execution_count": 2,
   "metadata": {},
   "outputs": [],
   "source": [
    "# defining a function for categorical boxplots\n",
    "def categorical_boxplots(response, cat_var, data):\n",
    "    \"\"\"\n",
    "\tThis function is designed to generate a boxplot for  can be used for categorical variables.\n",
    "    Make sure matplotlib.pyplot and seaborn have been imported (as plt and sns).\n",
    "\n",
    "    PARAMETERS\n",
    "\t----------\n",
    "\tresponse : str, response variable\n",
    "\tcat_var  : str, categorical variable\n",
    "\tdata     : DataFrame of the response and categorical variables\n",
    "\t\"\"\"\n",
    "\n",
    "    fig, ax = plt.subplots(figsize = (10, 8))\n",
    "    \n",
    "    sns.boxplot(x    = response,\n",
    "                y    = cat_var,\n",
    "                data = data)\n",
    "    \n",
    "    plt.suptitle(\"\")\n",
    "    plt.show()\n",
    "    \n",
    "# defining a function for scatter plots\n",
    "def scatterplot(x, y,  data, title = \"\", xlabel = \"NA\", ylabel = \"NA\"):\n",
    "    \"\"\"\n",
    "\tThis function is designed to generate a scatterplot.\n",
    "    Make sure matplotlib.pyplot and seaborn have been imported (as plt and sns).\n",
    "\n",
    "    PARAMETERS\n",
    "\t----------\n",
    "\tx        : str, x-variable \n",
    "\ty        : str, y-variable \n",
    "\tdata     : DataFrame of the variables\n",
    "    title    : str, optional argument: title of the boxplot. Default: empty\n",
    "\txlabel   : str, optional argument: label for x-axis. Default: x\n",
    "\tylabel   : str, optional argument: label for y-axis. Default: y\n",
    "\t\"\"\"\n",
    "    \n",
    "     # Creating a label NA if not specified\n",
    "    if xlabel == \"NA\":\n",
    "        xlabel = x.title()\n",
    "        \n",
    "    if ylabel == \"NA\":\n",
    "        ylabel = y.title()\n",
    "    \n",
    "    # Set figure size\n",
    "    fig, ax = plt.subplots(figsize = (5, 5))\n",
    "    \n",
    "    # Create scatterplot\n",
    "    sns.scatterplot(x     = data[x],\n",
    "                    y     = data[y])\n",
    "    \n",
    "    # Format scatterplot\n",
    "    plt.title(label   = title)\n",
    "    plt.xlabel(xlabel = xlabel) \n",
    "    plt.ylabel(ylabel = ylabel)\n",
    "    \n",
    "    # Show boxplot\n",
    "    plt.show()\n",
    "    \n",
    "\n",
    "# defining a function for displots\n",
    "def displot(data, x, height, aspect, title = \"\", xlabel = \"NA\", ylabel = \"NA\"):\n",
    "    \"\"\"\n",
    "\tThis function is designed to generate a scatterplot.\n",
    "    Make sure matplotlib.pyplot and seaborn have been imported (as plt and sns).\n",
    "\n",
    "    PARAMETERS\n",
    "\t----------\n",
    "\tdata     : DataFrame of the variables\n",
    "\tx        : str, x-variable \n",
    "\theight   : height of the plot\n",
    "\taspect   : aspect of the plot\n",
    "\ttitle    : str, optional argument: title of the boxplot. Default: empty\n",
    "\txlabel   : str, optional argument: label for x-axis. Default: x\n",
    "\tylabel   : str, optional argument: label for y-axis. Default: y\n",
    "\t\"\"\"\n",
    "    \n",
    "     # Creating a label NA if not specified\n",
    "    if xlabel == \"NA\":\n",
    "        xlabel = x.title()\n",
    "        \n",
    "    if ylabel == \"NA\":\n",
    "        ylabel = y.title()\n",
    "    \n",
    "    # Create displot\n",
    "    sns.displot(data = data, \n",
    "                x     = data[x])\n",
    "    \n",
    "    # Format displot\n",
    "    plt.title(label   = title)\n",
    "    plt.xlabel(xlabel = xlabel) \n",
    "    plt.ylabel(ylabel = ylabel)\n",
    "    \n",
    "    # Show boxplot\n",
    "    plt.show()\n",
    "    \n",
    "# defining a function for boxplots\n",
    "def boxplot(x, y,  data, title = \"\", xlabel = \"NA\", ylabel = \"NA\"):\n",
    "    \"\"\"\n",
    "\tThis function is designed to generate a scatterplot.\n",
    "    Make sure matplotlib.pyplot and seaborn have been imported (as plt and sns).\n",
    "\n",
    "    PARAMETERS\n",
    "\t----------\n",
    "\tx        : str, x-variable \n",
    "\ty        : str, y-variable \n",
    "\tdata     : DataFrame of the variables\n",
    "    title    : str, optional argument: title of the boxplot. Default: empty\n",
    "\txlabel   : str, optional argument: label for x-axis. Default: x\n",
    "\tylabel   : str, optional argument: label for y-axis. Default: y\n",
    "\t\"\"\"\n",
    "    \n",
    "     # Creating a label NA if not specified\n",
    "    if xlabel == \"NA\":\n",
    "        xlabel = x.title()\n",
    "        \n",
    "    if ylabel == \"NA\":\n",
    "        ylabel = y.title()\n",
    "    \n",
    "    # Set figure size\n",
    "    fig, ax = plt.subplots(figsize = (5, 5))\n",
    "    \n",
    "    # Create boxplot\n",
    "    sns.boxplot(x     = data[x],\n",
    "                y     = data[y])\n",
    "    \n",
    "    # Format boxplot\n",
    "    plt.title(label   = title)\n",
    "    plt.xlabel(xlabel = xlabel) \n",
    "    plt.ylabel(ylabel = ylabel)\n",
    "    \n",
    "    # Show boxplot\n",
    "    plt.show()"
   ]
  },
  {
   "cell_type": "markdown",
   "metadata": {},
   "source": [
    "## Exploratory Data Analysis - EDA"
   ]
  },
  {
   "cell_type": "code",
   "execution_count": 3,
   "metadata": {},
   "outputs": [
    {
     "name": "stdout",
     "output_type": "stream",
     "text": [
      "\n",
      "Size of Original Dataset\n",
      "------------------------\n",
      "Observations (= number of rows): 1946\n",
      "Features (= number of columns):     28\n",
      "\n"
     ]
    }
   ],
   "source": [
    "# formatting and printing the dimensions of the dataset\n",
    "print(f\"\"\"\n",
    "Size of Original Dataset\n",
    "------------------------\n",
    "Observations (= number of rows): {chef.shape[0]}\n",
    "Features (= number of columns):     {chef.shape[1]}\n",
    "\"\"\")"
   ]
  },
  {
   "cell_type": "code",
   "execution_count": 4,
   "metadata": {},
   "outputs": [],
   "source": [
    "# Renaming the mislabeled column \n",
    "chef.rename(columns = {'LARGEST_ORDER_SIZE':'AVG_NB_MEALS'}, inplace = True)\n",
    "\n",
    "# descriptive statistics for numeric data\n",
    "# chef.describe(include = 'number').round(2)"
   ]
  },
  {
   "cell_type": "markdown",
   "metadata": {},
   "source": [
    "<u><b>CONTINUOUS</b></u><br>\n",
    "\n",
    "- REVENUE (Y-variable) \n",
    "- TOTAL_MEALS_ORDERED\n",
    "- AVG_TIME_PER_SITE_VISIT\n",
    "- AVG_PREP_VID_TIME\n",
    "- TOTAL_PHOTOS_VIEWED<br><br>  \n",
    "\n",
    "<u><b>INTERVAL/COUNT</b></u><br>\n",
    "\n",
    "- UNIQUE_MEALS_PURCH\n",
    "- CONTACTS_W_CUSTOMER_SERVICE\n",
    "- PRODUCT_CATEGORIES_VIEWED\n",
    "- CANCELLATIONS_BEFORE_NOON\n",
    "- CANCELLATIONS_AFTER_NOON\n",
    "- MOBILE_LOGINS\n",
    "- PC_LOGINS\n",
    "- WEEKLY_PLAN\n",
    "- EARLY_DELIVERIES\n",
    "- LATE_DELIVERIES\n",
    "- AVG_NB_MEALS\n",
    "- MASTER_CLASSES_ATTENDED\n",
    "- MEDIAN_MEAL_RATING\n",
    "- AVG_CLICKS_PER_VISIT<br><br>\n",
    "\n",
    "<u><b>CATEGORICAL</b></u><br>\n",
    "\n",
    "- CROSS_SELL_SUCCESS\n",
    "- MOBILE_NUMBER\n",
    "- TASTES_AND_PREFERENCES\n",
    "- PACKAGE_LOCKER\n",
    "- REFRIGERATED_LOCKER"
   ]
  },
  {
   "cell_type": "markdown",
   "metadata": {},
   "source": [
    "### Analyzing the distribution of the Y-variable"
   ]
  },
  {
   "cell_type": "code",
   "execution_count": 5,
   "metadata": {},
   "outputs": [
    {
     "data": {
      "image/png": "[encoded data removed]",
      "text/plain": [
       "<Figure size 360x360 with 1 Axes>"
      ]
     },
     "metadata": {
      "needs_background": "light"
     },
     "output_type": "display_data"
    }
   ],
   "source": [
    "# developing a histogram using DISPLOT\n",
    "displot(data = chef, x = 'REVENUE', height = 5, aspect = 2,\n",
    "       title = \"Original Distribution of Revenue per Customer\", \n",
    "       xlabel = \"Revenue\",\n",
    "       ylabel = \"Count\")"
   ]
  },
  {
   "cell_type": "code",
   "execution_count": 6,
   "metadata": {},
   "outputs": [
    {
     "data": {
      "text/plain": [
       "<seaborn.axisgrid.FacetGrid at 0x7fb56b6fe4c0>"
      ]
     },
     "execution_count": 6,
     "metadata": {},
     "output_type": "execute_result"
    },
    {
     "data": {
      "image/png": "[encoded data removed]",
      "text/plain": [
       "<Figure size 360x360 with 1 Axes>"
      ]
     },
     "metadata": {
      "needs_background": "light"
     },
     "output_type": "display_data"
    }
   ],
   "source": [
    "# REVENUE distribution is skewed positive\n",
    "# log transforming REVENUE and saving it to the dataset\n",
    "chef['LOG_REVENUE'] = np.log10(chef['REVENUE'])\n",
    "\n",
    "sns.displot(chef['LOG_REVENUE'])"
   ]
  },
  {
   "cell_type": "markdown",
   "metadata": {},
   "source": [
    "## Review of Missing Value Analysis and Imputation"
   ]
  },
  {
   "cell_type": "code",
   "execution_count": 7,
   "metadata": {},
   "outputs": [
    {
     "data": {
      "text/plain": [
       "M_FAMILY_NAME    47\n",
       "dtype: int64"
      ]
     },
     "execution_count": 7,
     "metadata": {},
     "output_type": "execute_result"
    }
   ],
   "source": [
    "# looping to detect features with missing values\n",
    "for col in chef:\n",
    "\n",
    "    # creating columns with 1s if missing and 0 if not\n",
    "     if chef[col].isnull().astype(int).sum() > 0:\n",
    "        chef['M_'+col] = chef[col].isnull().astype(int)\n",
    "\n",
    "\n",
    "# summing the missing value flags to check the results of the loop above\n",
    "chef[['M_FAMILY_NAME']].sum(axis = 0)"
   ]
  },
  {
   "cell_type": "code",
   "execution_count": 8,
   "metadata": {},
   "outputs": [
    {
     "data": {
      "text/plain": [
       "False"
      ]
     },
     "execution_count": 8,
     "metadata": {},
     "output_type": "execute_result"
    }
   ],
   "source": [
    "# instantiating an imputation value\n",
    "fill = 'NULL'\n",
    "\n",
    "# imputing 'Mas Vnr Area'\n",
    "chef['FAMILY_NAME'] = chef['FAMILY_NAME'].fillna(fill)\n",
    "\n",
    "# making sure all missing values have been taken care of\n",
    "chef.isnull().any().any()"
   ]
  },
  {
   "cell_type": "markdown",
   "metadata": {},
   "source": [
    "## Continuous Data Variables"
   ]
  },
  {
   "cell_type": "code",
   "execution_count": 9,
   "metadata": {},
   "outputs": [],
   "source": [
    "# creating a list of continuous features (including REVENUE)\n",
    "continuous_data = ['LOG_REVENUE', 'TOTAL_MEALS_ORDERED', 'AVG_TIME_PER_SITE_VISIT', 'AVG_PREP_VID_TIME', \n",
    "                   'TOTAL_PHOTOS_VIEWED']\n",
    "\n",
    "\n",
    "# developing a correlation matrix based on continuous features\n",
    "chef_corr = chef[continuous_data].corr(method = 'pearson')\n",
    "\n",
    "\n",
    "# filtering the results to only show correlations with Sale_Price\n",
    "# chef_corr.loc[ : , 'LOG_REVENUE'].round(decimals = 2).sort_values(ascending = False)\n",
    "\n",
    "## OUTPUT \n",
    "\n",
    "# REVENUE                    1.00\n",
    "# AVG_PREP_VID_TIME          0.65\n",
    "# TOTAL_MEALS_ORDERED        0.61\n",
    "# TOTAL_PHOTOS_VIEWED        0.43\n",
    "# AVG_TIME_PER_SITE_VISIT    0.14\n",
    "# Name: REVENUE, dtype: float64"
   ]
  },
  {
   "cell_type": "markdown",
   "metadata": {},
   "source": [
    "### Log Transformation"
   ]
  },
  {
   "cell_type": "code",
   "execution_count": 10,
   "metadata": {},
   "outputs": [
    {
     "data": {
      "image/png": "[encoded data removed]",
      "text/plain": [
       "<Figure size 360x360 with 1 Axes>"
      ]
     },
     "metadata": {
      "needs_background": "light"
     },
     "output_type": "display_data"
    }
   ],
   "source": [
    "# developing a histogram using DISPLOT\n",
    "displot(data = chef, x = 'AVG_PREP_VID_TIME', height = 5, aspect = 2,\n",
    "       title = \"Original Distribution of Average Time Watching the Prep Video per Customer\", \n",
    "       xlabel = \"Average Time Watching the Prep Video\",\n",
    "       ylabel = \"Count\")"
   ]
  },
  {
   "cell_type": "code",
   "execution_count": 11,
   "metadata": {},
   "outputs": [
    {
     "data": {
      "text/plain": [
       "<seaborn.axisgrid.FacetGrid at 0x7fb56c071ac0>"
      ]
     },
     "execution_count": 11,
     "metadata": {},
     "output_type": "execute_result"
    },
    {
     "data": {
      "image/png": "[encoded data removed]",
      "text/plain": [
       "<Figure size 360x360 with 1 Axes>"
      ]
     },
     "metadata": {
      "needs_background": "light"
     },
     "output_type": "display_data"
    }
   ],
   "source": [
    "# Average Time Watching the Prep Video distribution is skewed positive\n",
    "# log transforming AVG_PREP_VID_TIME and saving it to the dataset\n",
    "chef['LOG_AVG_PREP_VID_TIME'] = np.log10(chef['AVG_PREP_VID_TIME'])\n",
    "sns.displot(chef['LOG_AVG_PREP_VID_TIME'])"
   ]
  },
  {
   "cell_type": "markdown",
   "metadata": {},
   "source": [
    "### Trend-Based Features"
   ]
  },
  {
   "cell_type": "code",
   "execution_count": 12,
   "metadata": {},
   "outputs": [
    {
     "data": {
      "image/png": "[encoded data removed]",
      "text/plain": [
       "<Figure size 360x360 with 1 Axes>"
      ]
     },
     "metadata": {
      "needs_background": "light"
     },
     "output_type": "display_data"
    },
    {
     "data": {
      "image/png": "[encoded data removed]",
      "text/plain": [
       "<Figure size 360x360 with 1 Axes>"
      ]
     },
     "metadata": {
      "needs_background": "light"
     },
     "output_type": "display_data"
    },
    {
     "data": {
      "image/png": "[encoded data removed]",
      "text/plain": [
       "<Figure size 360x360 with 1 Axes>"
      ]
     },
     "metadata": {
      "needs_background": "light"
     },
     "output_type": "display_data"
    }
   ],
   "source": [
    "## Developing scatterplots to verify the distributions of continuous variables\n",
    "scatterplot(x = 'TOTAL_MEALS_ORDERED', y = 'LOG_REVENUE', data = chef)\n",
    "scatterplot(x = 'TOTAL_PHOTOS_VIEWED', y = 'LOG_REVENUE', data = chef)\n",
    "scatterplot(x = 'MASTER_CLASSES_ATTENDED', y = 'LOG_REVENUE', data = chef)"
   ]
  },
  {
   "cell_type": "code",
   "execution_count": 13,
   "metadata": {},
   "outputs": [],
   "source": [
    "# Differentiating low vs high numbers for continuous variables\n",
    "HIGH_TOTAL_MEALS_ORDERED   = len(chef['TOTAL_MEALS_ORDERED'][chef['TOTAL_MEALS_ORDERED'] >= 30])\n",
    "HAS_VIEWED_PHOTOS   = len(chef['TOTAL_PHOTOS_VIEWED'][chef['TOTAL_PHOTOS_VIEWED'] > 0])\n",
    "LONG_WATCH_TIME = len(chef['AVG_PREP_VID_TIME'][chef['AVG_PREP_VID_TIME'] > 250])\n",
    "\n",
    "# printing a table of the results\n",
    "# print(f\"\"\"\n",
    "#                             More than 30 meals \\t Less than or equal to 30 meals\n",
    "#                           ---------------------------------------------------------------\n",
    "# Total Meals Ordered       |  {HIGH_TOTAL_MEALS_ORDERED} \\t\\t\\t {len(chef) - HIGH_TOTAL_MEALS_ORDERED}\n",
    "#\n",
    "#                             Yes\\tNo\n",
    "#                           ---------------------\n",
    "# Viewed Photos             | {HAS_VIEWED_PHOTOS}\\t\\t{len(chef) - HAS_VIEWED_PHOTOS}\n",
    "# Long Watch Time           | {LONG_WATCH_TIME}\\t\\t{len(chef) - LONG_WATCH_TIME}\n",
    "# \"\"\")"
   ]
  },
  {
   "cell_type": "code",
   "execution_count": 14,
   "metadata": {},
   "outputs": [],
   "source": [
    "# dummy variables for high number of total meals, photos viewed positive \n",
    "chef['HIGH_TOTAL_MEALS_ORDERED']  = 0\n",
    "chef['HAS_VIEWED_PHOTOS']         = 0\n",
    "chef['LONG_WATCH_TIME']         = 0\n",
    "\n",
    "# iterating over original columns to change values in the new feature columns\n",
    "for index, value in chef.iterrows():\n",
    "    \n",
    "    # High Total Meals Ordered\n",
    "    if chef.loc[index, 'TOTAL_MEALS_ORDERED'] > 30:\n",
    "        chef.loc[index, 'HIGH_TOTAL_MEALS_ORDERED'] = 1\n",
    "    \n",
    "    # Positive Photos Viewed\n",
    "    if chef.loc[index, 'TOTAL_PHOTOS_VIEWED'] > 0:\n",
    "        chef.loc[index, 'HAS_VIEWED_PHOTOS'] = 1\n",
    "        \n",
    "    # Long watch time\n",
    "    if chef.loc[index, 'AVG_PREP_VID_TIME'] > 250:\n",
    "        chef.loc[index, 'LONG_WATCH_TIME'] = 1\n",
    "\n",
    "## checking results\n",
    "# chef[['HIGH_TOTAL_MEALS_ORDERED', 'HAS_VIEWED_PHOTOS', 'LONG_WATCH_TIME']] .head()\n",
    "\n",
    "## OUTPUT\n",
    "\n",
    "# \tHIGH_TOTAL_MEALS_ORDERED \tHAS_VIEWED_PHOTOS\tLONG_WATCH_TIME\n",
    "# 0\t                      0 \t                0   \t          0\n",
    "# 1\t                      1 \t                1   \t          0\n",
    "# 2\t                      0 \t                0   \t          0\n",
    "# 3\t                      0 \t                0   \t          0\n",
    "# 4\t                      1 \t                1   \t          0"
   ]
  },
  {
   "cell_type": "markdown",
   "metadata": {},
   "source": [
    "## Count Data Variables"
   ]
  },
  {
   "cell_type": "code",
   "execution_count": 15,
   "metadata": {},
   "outputs": [],
   "source": [
    "# creating a list of interval features (including LOG_REVENUE)\n",
    "interval_data = ['LOG_REVENUE', 'UNIQUE_MEALS_PURCH', 'CONTACTS_W_CUSTOMER_SERVICE', \n",
    "                 'PRODUCT_CATEGORIES_VIEWED','CANCELLATIONS_BEFORE_NOON', \n",
    "                 'CANCELLATIONS_AFTER_NOON', 'MOBILE_LOGINS', 'PC_LOGINS', 'WEEKLY_PLAN', \n",
    "                 'EARLY_DELIVERIES', 'LATE_DELIVERIES', 'AVG_NB_MEALS', 'MASTER_CLASSES_ATTENDED',\n",
    "                 'MEDIAN_MEAL_RATING', 'AVG_CLICKS_PER_VISIT']\n",
    "\n",
    "# developing a correlation matrix based on continuous features\n",
    "chef_corr = chef[interval_data].corr(method = 'pearson')\n",
    "\n",
    "\n",
    "# filtering the results to only show correlations with LOG_REVENUE\n",
    "# chef_corr.loc[ : , 'LOG_REVENUE'].round(decimals = 2).sort_values(ascending = False)\n",
    "\n",
    "## OUTPUT \n",
    "\n",
    "# LOG_REVENUE                    1.00\n",
    "# MEDIAN_MEAL_RATING             0.65\n",
    "# MASTER_CLASSES_ATTENDED        0.47\n",
    "# AVG_NB_MEALS                   0.45\n",
    "# PRODUCT_CATEGORIES_VIEWED      0.04\n",
    "# WEEKLY_PLAN                    0.01\n",
    "# PC_LOGINS                      0.01\n",
    "# CANCELLATIONS_BEFORE_NOON      0.01\n",
    "# EARLY_DELIVERIES              -0.01\n",
    "# MOBILE_LOGINS                 -0.01\n",
    "# LATE_DELIVERIES               -0.02\n",
    "# CANCELLATIONS_AFTER_NOON      -0.04\n",
    "# CONTACTS_W_CUSTOMER_SERVICE   -0.04\n",
    "# UNIQUE_MEALS_PURCH            -0.08\n",
    "# AVG_CLICKS_PER_VISIT          -0.58\n",
    "# Name: LOG_REVENUE, dtype: float64"
   ]
  },
  {
   "cell_type": "markdown",
   "metadata": {},
   "source": [
    "### Log Transformations"
   ]
  },
  {
   "cell_type": "code",
   "execution_count": 16,
   "metadata": {},
   "outputs": [],
   "source": [
    "# Log Transforming Median Meal Rating & Average Clicks per Visit\n",
    "chef['LOG_MEDIAN_MEAL_RATING'] = np.log10(chef['MEDIAN_MEAL_RATING'])\n",
    "chef['LOG_AVG_CLICKS_PER_VISIT'] = np.log10(chef['AVG_CLICKS_PER_VISIT'])\n",
    "\n",
    "# Building a correlation matrix\n",
    "log_corr = chef.loc[ : , ['MEDIAN_MEAL_RATING',\n",
    "                          'LOG_MEDIAN_MEAL_RATING',\n",
    "                          'AVG_CLICKS_PER_VISIT',\n",
    "                          'LOG_AVG_CLICKS_PER_VISIT',\n",
    "                          'LOG_REVENUE']  ].corr(method = 'pearson')\\\n",
    "                                                 .round(decimals = 2)\n",
    "\n",
    "# Check the results\n",
    "# log_corr.loc[ ['MEDIAN_MEAL_RATING', 'LOG_MEDIAN_MEAL_RATING', 'AVG_CLICKS_PER_VISIT',\n",
    "#               'LOG_AVG_CLICKS_PER_VISIT'], [ 'LOG_REVENUE'] ]\n",
    "\n",
    "## OUTPUT\n",
    "\n",
    "#                       \tLOG_REVENUE\n",
    "# MEDIAN_MEAL_RATING\t           0.65\n",
    "# LOG_MEDIAN_MEAL_RATING\t       0.61\n",
    "# AVG_CLICKS_PER_VISIT  \t      -0.58\n",
    "# LOG_AVG_CLICKS_PER_VISIT  \t  -0.58"
   ]
  },
  {
   "cell_type": "code",
   "execution_count": 17,
   "metadata": {},
   "outputs": [
    {
     "data": {
      "image/png": "[encoded data removed]",
      "text/plain": [
       "<Figure size 1080x720 with 4 Axes>"
      ]
     },
     "metadata": {
      "needs_background": "light"
     },
     "output_type": "display_data"
    }
   ],
   "source": [
    "## comparing log transformation results ##\n",
    "\n",
    "# setting figure size\n",
    "fig, ax = plt.subplots(figsize = (15, 10))\n",
    "\n",
    "\n",
    "## Plot 1: MEDIAN MEAL RATING, REVENUE ##\n",
    "plt.subplot(2, 2, 1)\n",
    "\n",
    "sns.boxplot(x = 'MEDIAN_MEAL_RATING', \n",
    "            y = 'LOG_REVENUE', \n",
    "            data = chef)\n",
    "       \n",
    "\n",
    "# titles and labels\n",
    "plt.title(label = 'MEDIAN MEAL RATING, LOG REVENUE')\n",
    "plt.xlabel(xlabel = 'MEDIAN MEAL RATING')\n",
    "plt.ylabel(ylabel = 'LOG REVENUE')\n",
    "\n",
    "## Plot 2: MEDIAN MEAL RATING, LOG REVENUE ##\n",
    "plt.subplot(2, 2, 2)\n",
    "\n",
    "sns.boxplot(x = 'LOG_MEDIAN_MEAL_RATING', \n",
    "            y = 'LOG_REVENUE',\n",
    "            data = chef)\n",
    "\n",
    "\n",
    "# titles and labels\n",
    "plt.title(label   = 'MEDIAN MEAL RATING, LOG REVENUE')\n",
    "plt.xlabel(xlabel = 'MEDIAN MEAL RATING')\n",
    "plt.ylabel(ylabel = 'LOG REVENUE')\n",
    "\n",
    "\n",
    "## Plot 3: AVG CLICKS PER VISIT, REVENUE ##\n",
    "plt.subplot(2, 2, 3)\n",
    "sns.boxplot(x     = 'AVG_CLICKS_PER_VISIT',\n",
    "            y     = 'LOG_REVENUE',\n",
    "            data  = chef)\n",
    "\n",
    "\n",
    "# titles and labels\n",
    "plt.title(label   = 'AVG CLICKS PER VISIT, LOG REVENUE')\n",
    "plt.xlabel(xlabel = 'AVG CLICKS PER VISIT')\n",
    "plt.ylabel(ylabel = 'LOG REVENUE')\n",
    "\n",
    "\n",
    "## Plot 1: AVG CLICKS PER VISIT, LOG REVENUE ##\n",
    "plt.subplot(2, 2, 4)\n",
    "sns.boxplot(x     = 'LOG_AVG_CLICKS_PER_VISIT',\n",
    "            y     = 'LOG_REVENUE',\n",
    "           data  = chef)\n",
    "\n",
    "\n",
    "# titles and labels\n",
    "plt.title(label   = 'LOG AVG CLICKS PER VISIT, LOG REVENUE')\n",
    "plt.xlabel(xlabel = 'LOG AVG CLICKS PER VISIT')\n",
    "plt.ylabel(ylabel = 'LOG REVENUE')\n",
    "\n",
    "\n",
    "\n",
    "## displaying the visuals ##\n",
    "plt.tight_layout()\n",
    "plt.show()"
   ]
  },
  {
   "cell_type": "code",
   "execution_count": 18,
   "metadata": {},
   "outputs": [],
   "source": [
    "# New calculation for MEDIAN_MEAL_RATING\n",
    "chef['SQUARED_MEDIAN_MEAL_RATING'] = chef['MEDIAN_MEAL_RATING'] ^ 2"
   ]
  },
  {
   "cell_type": "markdown",
   "metadata": {},
   "source": [
    "### Trend-Based Features"
   ]
  },
  {
   "cell_type": "code",
   "execution_count": 19,
   "metadata": {},
   "outputs": [
    {
     "data": {
      "image/png": "[encoded data removed]",
      "text/plain": [
       "<Figure size 360x360 with 1 Axes>"
      ]
     },
     "metadata": {
      "needs_background": "light"
     },
     "output_type": "display_data"
    },
    {
     "data": {
      "image/png": "[encoded data removed]",
      "text/plain": [
       "<Figure size 360x360 with 1 Axes>"
      ]
     },
     "metadata": {
      "needs_background": "light"
     },
     "output_type": "display_data"
    }
   ],
   "source": [
    "# developing scatterplots\n",
    "scatterplot(x = 'MASTER_CLASSES_ATTENDED', y = 'LOG_REVENUE', data = chef)\n",
    "scatterplot(x = 'WEEKLY_PLAN', y = 'LOG_REVENUE', data = chef)"
   ]
  },
  {
   "cell_type": "code",
   "execution_count": 20,
   "metadata": {},
   "outputs": [],
   "source": [
    "# Differentiate positive numbers\n",
    "HAS_ATTENDED_MASTER_CLASS = len(chef['MASTER_CLASSES_ATTENDED'][chef['MASTER_CLASSES_ATTENDED'] > 0])\n",
    "HAS_ATTENDED_SEVERAL_CLASSES = len(chef['MASTER_CLASSES_ATTENDED'][chef['MASTER_CLASSES_ATTENDED'] > 1])\n",
    "HAS_WEEKLY_PLAN = len(chef['WEEKLY_PLAN'][chef['WEEKLY_PLAN'] > 0])\n",
    "HIGH_CONTACTS_W_CUSTOMER_SERVICE = len(chef['CONTACTS_W_CUSTOMER_SERVICE'][chef['CONTACTS_W_CUSTOMER_SERVICE'] > 8])\n",
    "\n",
    "# Printing a table of the results\n",
    "# print(f\"\"\"\n",
    "#                                           Yes\\t\\tNo\n",
    "#                                          ---------------------\n",
    "# Attended Master Class                    | {HAS_ATTENDED_MASTER_CLASSES}\\t\\t{len(chef) - HAS_ATTENDED_MASTER_CLASSES}\n",
    "# Attended Several Classes                 | {HAS_ATTENDED_SEVERAL_CLASSES}\\t\\t{len(chef) - HAS_ATTENDED_SEVERAL_CLASSES}\n",
    "# Has a weekly plan                        | {HAS_WEEKLY_PLAN}\\t\\t{len(chef) - HAS_WEEKLY_PLAN}\n",
    "# Has lots of contacts w customer service  | {HIGH_CONTACTS_W_CUSTOMER_SERVICE}\\t\\t{len(chef) - HIGH_CONTACTS_W_CUSTOMER_SERVICE}\n",
    "# \"\"\")\n",
    "\n",
    "# Dummy variables for customers who have attended master classes, and the ones who have a weekly plan\n",
    "chef['HAS_ATTENDED_MASTER_CLASS']          = 0\n",
    "chef['HAS_ATTENDED_SEVERAL_CLASSES']       = 0\n",
    "chef['HAS_WEEKLY_PLAN']                    = 0\n",
    "chef['HIGH_CONTACTS_W_CUSTOMER_SERVICE']   = 0\n",
    "\n",
    "# Iterating over original columns to change values in the new feature columns\n",
    "for index, value in chef.iterrows():\n",
    "    \n",
    "    # Has Attended Master Classes     \n",
    "    if chef.loc[index, 'MASTER_CLASSES_ATTENDED'] > 0:\n",
    "        chef.loc[index, 'HAS_ATTENDED_MASTER_CLASS'] = 1\n",
    "        \n",
    "    # Has Attended Several Master Classes     \n",
    "    if chef.loc[index, 'MASTER_CLASSES_ATTENDED'] > 1:\n",
    "        chef.loc[index, 'HAS_ATTENDED_SEVERAL_CLASSES'] = 1\n",
    "    \n",
    "    # Has a Weekly Plan\n",
    "    if chef.loc[index, 'WEEKLY_PLAN'] > 0:\n",
    "        chef.loc[index, 'HAS_WEEKLY_PLAN'] = 1\n",
    "        \n",
    "    # Lots of contact with customer service\n",
    "    if chef.loc[index, 'CONTACTS_W_CUSTOMER_SERVICE'] > 8:\n",
    "        chef.loc[index, 'HIGH_CONTACTS_W_CUSTOMER_SERVICE'] = 1\n",
    "\n",
    "# Checking results\n",
    "# chef[['HAS_ATTENDED_MASTER_CLASS', 'HAS_ATTENDED_SEVERAL_CLASSES', 'HAS_WEEKLY_PLAN', \n",
    "#     'HIGH_CONTACTS_W_CUSTOMER_SERVICE']].head()\n",
    "\n",
    "## OUTPUT \n",
    "\n",
    "#   \tHAS_ATTENDED_MASTER_CLASS\tHAS_ATTENDED_SEVERAL_CLASSES\tHAS_WEEKLY_PLAN\tHIGH_CONTACTS_W_CUSTOMER_SERVICE\n",
    "# 0 \t                        0   \t                      0 \t              0 \t                           1\n",
    "# 1 \t                        0   \t                      0 \t              1 \t                           0\n",
    "# 2 \t                        0   \t                      0 \t              1 \t                           1\n",
    "# 3 \t                        0   \t                      0 \t              1 \t                           1\n",
    "# 4 \t                        1   \t                      0 \t              1 \t                           0"
   ]
  },
  {
   "cell_type": "markdown",
   "metadata": {},
   "source": [
    "## Categorical Data Variables"
   ]
  },
  {
   "cell_type": "code",
   "execution_count": 21,
   "metadata": {},
   "outputs": [],
   "source": [
    "# counting the number of zeroes for Cross Sell Success, Mobile Number, Tastes & Preferences, Package Locker, Refrigerated Locker\n",
    "cross_sell_zeroes = sum(chef['CROSS_SELL_SUCCESS'] == 0)\n",
    "mobile_zeroes     = sum(chef['MOBILE_NUMBER'] == 0)\n",
    "tastes_zeroes     = sum(chef['TASTES_AND_PREFERENCES'] == 0)\n",
    "p_locker_zeroes   = sum(chef['PACKAGE_LOCKER'] == 0)\n",
    "r_locker_zeroes   = sum(chef['REFRIGERATED_LOCKER'] == 0)\n",
    "\n",
    "\n",
    "# printing a table of the results\n",
    "# print(f\"\"\"\n",
    "#                                 No\\t\\tYes\n",
    "#                               ---------------------\n",
    "# Cross-Sell Success           | {cross_sell_zeroes}\\t\\t{len(chef) - cross_sell_zeroes}\n",
    "# Mobile Number                | {mobile_zeroes}\\t\\t{len(chef) - mobile_zeroes}\n",
    "# Tastes & Preferences         | {tastes_zeroes}\\t\\t{len(chef) - tastes_zeroes}\n",
    "# Package Locker               | {p_locker_zeroes}\\t\\t{len(chef) - p_locker_zeroes}\n",
    "# Refrigerated Locker          | {r_locker_zeroes}\\t\\t{len(chef) - r_locker_zeroes}\n",
    "# \"\"\")\n",
    "\n",
    "# dummy variables\n",
    "chef['HAS_CROSS_SOLD']           = 0\n",
    "chef['HAS_MOBILE_NUMBER']        = 0\n",
    "chef['HAS_MENTION_TASTES']       = 0\n",
    "chef['HAS_PACKAGE_LOCKER']       = 0\n",
    "chef['HAS_REFRIGERATED_LOCKER']  = 0\n",
    "\n",
    "\n",
    "# iterating over each original column to change values in the new feature columns\n",
    "for index, value in chef.iterrows():\n",
    "    \n",
    "    # Cross Sell Success\n",
    "    if chef.loc[index, 'CROSS_SELL_SUCCESS'] > 0:\n",
    "        chef.loc[index, 'HAS_CROSS_SOLD'] = 1\n",
    "\n",
    "\n",
    "    # Mobile Number\n",
    "    if chef.loc[index, 'MOBILE_NUMBER'] > 0:\n",
    "        chef.loc[index, 'HAS_MOBILE_NUMBER'] = 1\n",
    "        \n",
    "        \n",
    "    # Tastes & Preferences\n",
    "    if chef.loc[index, 'TASTES_AND_PREFERENCES'] > 0:\n",
    "        chef.loc[index, 'HAS_MENTION_TASTES'] = 1\n",
    "        \n",
    "        \n",
    "    # Package Locker\n",
    "    if chef.loc[index, 'PACKAGE_LOCKER'] > 0:\n",
    "        chef.loc[index, 'HAS_PACKAGE_LOCKER'] = 1\n",
    "       \n",
    "    # Refrigerated Locker\n",
    "    if chef.loc[index, 'REFRIGERATED_LOCKER'] > 0:\n",
    "        chef.loc[index, 'HAS_REFRIGERATED_LOCKER'] = 1\n",
    "\n",
    "# checking results\n",
    "# chef[['HAS_CROSS_SOLD', 'HAS_MOBILE_NUMBER', 'HAS_MENTION_TASTES', \n",
    "#      'HAS_PACKAGE_LOCKER', 'HAS_REFRIGERATED_LOCKER']].head()\n",
    "\n",
    "## OUTPUT\n",
    "\n",
    "#   \tHAS_CROSS_SOLD\tHAS_MOBILE_NUMBER\tHAS_MENTION_TASTES\tHAS_PACKAGE_LOCKER\tHAS_REFRIGERATED_LOCKER\n",
    "# 0 \t             1  \t            1   \t             1  \t             0  \t                  0\n",
    "# 1 \t             1  \t            1   \t             1  \t             0  \t                  0\n",
    "# 2 \t             1  \t            1   \t             1  \t             0  \t                  0\n",
    "# 3 \t             1  \t            1   \t             1  \t             0  \t                  0\n",
    "# 4 \t             1  \t            1   \t             0  \t             0  \t                  0"
   ]
  },
  {
   "cell_type": "markdown",
   "metadata": {},
   "source": [
    "## Feature Engineering"
   ]
  },
  {
   "cell_type": "markdown",
   "metadata": {},
   "source": [
    "### Gender Guesser"
   ]
  },
  {
   "cell_type": "code",
   "execution_count": 22,
   "metadata": {},
   "outputs": [],
   "source": [
    "# import gender_guesser.detector as gender # guess gender based on (given) name\n",
    "\n",
    "# guessing gender based on (given) name\n",
    "\n",
    "# placeholder list\n",
    "#placeholder_lst = []\n",
    "\n",
    "\n",
    "# looping to guess gender\n",
    "#for name in chef ['FIRST_NAME']:\n",
    "    #guess = gender.Detector().get_gender(name)\n",
    "    #print(guess)\n",
    "    #placeholder_lst.append(guess)\n",
    "    \n",
    "# checking results\n",
    "#print(placeholder_lst)\n",
    "\n",
    "# Adding the guessed gender from gender_guesser.detector into a new column the dataframe \n",
    "chef['GENDER_GUESS'] = ['unknown', 'unknown', 'unknown', 'unknown', 'unknown', 'female', 'unknown', 'unknown', 'unknown', 'unknown', 'unknown', 'unknown', 'unknown', 'unknown', 'unknown', 'unknown', 'unknown', 'unknown', 'male', 'unknown', 'female', 'male', 'unknown', 'male', 'unknown', 'unknown', 'unknown', 'unknown', 'unknown', 'male', 'unknown', 'male', 'unknown', 'unknown', 'unknown', 'unknown', 'female', 'unknown', 'unknown', 'unknown', 'unknown', 'male', 'male', 'unknown', 'male', 'unknown', 'male', 'unknown', 'unknown', 'unknown', 'male', 'male', 'unknown', 'unknown', 'male', 'male', 'unknown', 'unknown', 'unknown', 'unknown', 'unknown', 'unknown', 'unknown', 'male', 'male', 'unknown', 'unknown', 'mostly_male', 'female', 'unknown', 'male', 'male', 'unknown', 'male', 'unknown', 'unknown', 'unknown', 'male', 'unknown', 'unknown', 'male', 'unknown', 'unknown', 'unknown', 'unknown', 'mostly_male', 'unknown', 'unknown', 'unknown', 'unknown', 'unknown', 'unknown', 'male', 'male', 'male', 'unknown', 'male', 'unknown', 'unknown', 'male', 'male', 'male', 'female', 'unknown', 'unknown', 'male', 'unknown', 'unknown', 'unknown', 'female', 'unknown', 'male', 'unknown', 'male', 'unknown', 'female', 'male', 'unknown', 'unknown', 'male', 'unknown', 'unknown', 'unknown', 'unknown', 'unknown', 'female', 'male', 'female', 'female', 'unknown', 'male', 'unknown', 'male', 'unknown', 'male', 'unknown', 'unknown', 'unknown', 'unknown', 'unknown', 'unknown', 'unknown', 'unknown', 'unknown', 'unknown', 'unknown', 'unknown', 'male', 'unknown', 'unknown', 'unknown', 'male', 'unknown', 'unknown', 'unknown', 'unknown', 'unknown', 'male', 'female', 'unknown', 'andy', 'unknown', 'unknown', 'unknown', 'unknown', 'male', 'mostly_male', 'unknown', 'unknown', 'male', 'unknown', 'male', 'unknown', 'unknown', 'unknown', 'unknown', 'unknown', 'mostly_male', 'unknown', 'mostly_male', 'male', 'unknown', 'unknown', 'unknown', 'unknown', 'unknown', 'unknown', 'male', 'male', 'unknown', 'unknown', 'female', 'unknown', 'male', 'unknown', 'unknown', 'male', 'unknown', 'male', 'unknown', 'unknown', 'unknown', 'female', 'unknown', 'unknown', 'unknown', 'unknown', 'male', 'male', 'unknown', 'unknown', 'unknown', 'unknown', 'male', 'unknown', 'male', 'unknown', 'female', 'unknown', 'unknown', 'unknown', 'male', 'unknown', 'mostly_male', 'unknown', 'unknown', 'male', 'unknown', 'unknown', 'unknown', 'unknown', 'male', 'unknown', 'unknown', 'unknown', 'male', 'unknown', 'unknown', 'female', 'unknown', 'unknown', 'unknown', 'unknown', 'unknown', 'male', 'unknown', 'female', 'unknown', 'unknown', 'male', 'unknown', 'unknown', 'unknown', 'male', 'unknown', 'unknown', 'unknown', 'unknown', 'unknown', 'unknown', 'unknown', 'unknown', 'unknown', 'unknown', 'unknown', 'unknown', 'unknown', 'male', 'unknown', 'unknown', 'unknown', 'unknown', 'male', 'unknown', 'unknown', 'unknown', 'unknown', 'unknown', 'female', 'unknown', 'male', 'unknown', 'male', 'unknown', 'male', 'male', 'unknown', 'unknown', 'unknown', 'unknown', 'unknown', 'unknown', 'unknown', 'male', 'unknown', 'unknown', 'unknown', 'unknown', 'unknown', 'male', 'male', 'unknown', 'male', 'unknown', 'unknown', 'unknown', 'unknown', 'male', 'female', 'unknown', 'unknown', 'unknown', 'unknown', 'unknown', 'male', 'unknown', 'unknown', 'unknown', 'unknown', 'unknown', 'unknown', 'male', 'unknown', 'unknown', 'unknown', 'unknown', 'unknown', 'male', 'male', 'unknown', 'unknown', 'mostly_male', 'male', 'unknown', 'unknown', 'unknown', 'unknown', 'unknown', 'unknown', 'unknown', 'unknown', 'unknown', 'unknown', 'male', 'unknown', 'unknown', 'unknown', 'unknown', 'unknown', 'unknown', 'unknown', 'male', 'unknown', 'unknown', 'unknown', 'unknown', 'male', 'unknown', 'unknown', 'unknown', 'unknown', 'unknown', 'unknown', 'mostly_female', 'unknown', 'unknown', 'andy', 'unknown', 'unknown', 'female', 'male', 'unknown', 'unknown', 'unknown', 'unknown', 'unknown', 'unknown', 'unknown', 'unknown', 'unknown', 'unknown', 'unknown', 'unknown', 'mostly_male', 'unknown', 'unknown', 'male', 'unknown', 'unknown', 'unknown', 'male', 'unknown', 'unknown', 'unknown', 'male', 'unknown', 'unknown', 'unknown', 'unknown', 'unknown', 'unknown', 'unknown', 'unknown', 'unknown', 'female', 'unknown', 'unknown', 'unknown', 'unknown', 'unknown', 'unknown', 'unknown', 'unknown', 'mostly_female', 'unknown', 'male', 'male', 'unknown', 'unknown', 'male', 'unknown', 'unknown', 'unknown', 'andy', 'male', 'unknown', 'unknown', 'male', 'male', 'female', 'female', 'unknown', 'unknown', 'male', 'unknown', 'male', 'unknown', 'unknown', 'male', 'male', 'unknown', 'unknown', 'unknown', 'unknown', 'female', 'unknown', 'unknown', 'unknown', 'male', 'unknown', 'unknown', 'unknown', 'unknown', 'unknown', 'mostly_female', 'female', 'unknown', 'male', 'female', 'unknown', 'unknown', 'unknown', 'female', 'male', 'unknown', 'female', 'unknown', 'unknown', 'unknown', 'unknown', 'unknown', 'male', 'unknown', 'unknown', 'unknown', 'unknown', 'unknown', 'unknown', 'unknown', 'male', 'male', 'unknown', 'unknown', 'unknown', 'unknown', 'unknown', 'unknown', 'female', 'female', 'unknown', 'male', 'unknown', 'unknown', 'unknown', 'unknown', 'unknown', 'unknown', 'unknown', 'unknown', 'female', 'male', 'unknown', 'unknown', 'male', 'male', 'unknown', 'unknown', 'unknown', 'unknown', 'unknown', 'unknown', 'unknown', 'unknown', 'unknown', 'unknown', 'unknown', 'unknown', 'unknown', 'unknown', 'unknown', 'unknown', 'unknown', 'unknown', 'unknown', 'unknown', 'unknown', 'female', 'unknown', 'unknown', 'unknown', 'unknown', 'unknown', 'female', 'unknown', 'unknown', 'unknown', 'unknown', 'female', 'unknown', 'unknown', 'unknown', 'unknown', 'mostly_female', 'unknown', 'unknown', 'unknown', 'unknown', 'mostly_female', 'mostly_female', 'male', 'unknown', 'unknown', 'unknown', 'male', 'unknown', 'unknown', 'unknown', 'unknown', 'unknown', 'unknown', 'unknown', 'unknown', 'unknown', 'unknown', 'unknown', 'unknown', 'unknown', 'female', 'female', 'female', 'male', 'unknown', 'unknown', 'unknown', 'unknown', 'unknown', 'male', 'unknown', 'male', 'female', 'unknown', 'unknown', 'unknown', 'male', 'unknown', 'unknown', 'unknown', 'unknown', 'male', 'unknown', 'unknown', 'unknown', 'male', 'unknown', 'unknown', 'unknown', 'female', 'male', 'male', 'unknown', 'unknown', 'unknown', 'unknown', 'unknown', 'unknown', 'unknown', 'male', 'unknown', 'unknown', 'male', 'unknown', 'male', 'male', 'unknown', 'unknown', 'unknown', 'unknown', 'unknown', 'unknown', 'unknown', 'unknown', 'unknown', 'male', 'unknown', 'unknown', 'male', 'male', 'male', 'male', 'male', 'male', 'male', 'unknown', 'unknown', 'unknown', 'unknown', 'unknown', 'unknown', 'unknown', 'unknown', 'unknown', 'unknown', 'male', 'female', 'unknown', 'unknown', 'female', 'unknown', 'unknown', 'unknown', 'unknown', 'unknown', 'unknown', 'mostly_female', 'mostly_female', 'unknown', 'male', 'unknown', 'female', 'unknown', 'female', 'unknown', 'unknown', 'unknown', 'unknown', 'unknown', 'unknown', 'unknown', 'unknown', 'male', 'unknown', 'male', 'female', 'unknown', 'unknown', 'unknown', 'female', 'unknown', 'unknown', 'unknown', 'male', 'male', 'unknown', 'unknown', 'unknown', 'unknown', 'unknown', 'unknown', 'unknown', 'unknown', 'unknown', 'unknown', 'unknown', 'unknown', 'male', 'unknown', 'unknown', 'male', 'male', 'unknown', 'female', 'male', 'unknown', 'unknown', 'unknown', 'unknown', 'unknown', 'unknown', 'female', 'unknown', 'unknown', 'male', 'male', 'male', 'male', 'unknown', 'unknown', 'male', 'unknown', 'unknown', 'unknown', 'unknown', 'unknown', 'unknown', 'unknown', 'male', 'unknown', 'male', 'unknown', 'unknown', 'unknown', 'unknown', 'unknown', 'male', 'male', 'female', 'male', 'male', 'male', 'unknown', 'unknown', 'unknown', 'unknown', 'unknown', 'unknown', 'unknown', 'unknown', 'male', 'unknown', 'unknown', 'unknown', 'unknown', 'unknown', 'unknown', 'male', 'male', 'unknown', 'unknown', 'unknown', 'unknown', 'unknown', 'unknown', 'unknown', 'unknown', 'unknown', 'unknown', 'female', 'unknown', 'male', 'unknown', 'unknown', 'male', 'unknown', 'female', 'unknown', 'unknown', 'unknown', 'unknown', 'unknown', 'male', 'unknown', 'unknown', 'unknown', 'unknown', 'unknown', 'male', 'unknown', 'male', 'unknown', 'unknown', 'unknown', 'unknown', 'unknown', 'unknown', 'male', 'unknown', 'unknown', 'unknown', 'male', 'unknown', 'male', 'male', 'male', 'mostly_male', 'male', 'male', 'male', 'male', 'mostly_male', 'unknown', 'unknown', 'unknown', 'unknown', 'unknown', 'female', 'male', 'unknown', 'unknown', 'unknown', 'male', 'unknown', 'unknown', 'unknown', 'male', 'male', 'unknown', 'unknown', 'unknown', 'male', 'unknown', 'unknown', 'unknown', 'unknown', 'unknown', 'unknown', 'male', 'unknown', 'unknown', 'unknown', 'male', 'male', 'unknown', 'male', 'unknown', 'unknown', 'andy', 'unknown', 'male', 'unknown', 'unknown', 'unknown', 'male', 'unknown', 'male', 'unknown', 'unknown', 'unknown', 'male', 'unknown', 'unknown', 'unknown', 'mostly_male', 'unknown', 'unknown', 'unknown', 'unknown', 'unknown', 'unknown', 'unknown', 'unknown', 'male', 'female', 'unknown', 'male', 'unknown', 'male', 'unknown', 'unknown', 'unknown', 'male', 'male', 'mostly_male', 'unknown', 'unknown', 'unknown', 'unknown', 'unknown', 'unknown', 'unknown', 'unknown', 'unknown', 'unknown', 'unknown', 'unknown', 'unknown', 'male', 'male', 'unknown', 'unknown', 'unknown', 'unknown', 'unknown', 'unknown', 'unknown', 'male', 'male', 'unknown', 'unknown', 'unknown', 'unknown', 'unknown', 'unknown', 'unknown', 'unknown', 'unknown', 'unknown', 'unknown', 'male', 'unknown', 'unknown', 'unknown', 'unknown', 'unknown', 'female', 'male', 'unknown', 'unknown', 'unknown', 'unknown', 'female', 'unknown', 'male', 'unknown', 'unknown', 'unknown', 'unknown', 'unknown', 'male', 'unknown', 'unknown', 'unknown', 'unknown', 'unknown', 'unknown', 'unknown', 'unknown', 'female', 'female', 'unknown', 'unknown', 'unknown', 'unknown', 'unknown', 'unknown', 'female', 'unknown', 'male', 'male', 'male', 'unknown', 'unknown', 'unknown', 'unknown', 'unknown', 'unknown', 'unknown', 'female', 'unknown', 'unknown', 'unknown', 'unknown', 'male', 'unknown', 'male', 'unknown', 'male', 'unknown', 'male', 'female', 'unknown', 'unknown', 'unknown', 'unknown', 'unknown', 'male', 'unknown', 'female', 'female', 'male', 'male', 'female', 'female', 'unknown', 'unknown', 'unknown', 'unknown', 'unknown', 'unknown', 'unknown', 'unknown', 'unknown', 'unknown', 'unknown', 'unknown', 'unknown', 'unknown', 'unknown', 'unknown', 'unknown', 'mostly_male', 'unknown', 'unknown', 'unknown', 'unknown', 'unknown', 'female', 'unknown', 'unknown', 'unknown', 'unknown', 'unknown', 'mostly_male', 'unknown', 'unknown', 'unknown', 'female', 'unknown', 'unknown', 'unknown', 'unknown', 'male', 'unknown', 'unknown', 'unknown', 'unknown', 'unknown', 'female', 'unknown', 'male', 'andy', 'unknown', 'unknown', 'unknown', 'unknown', 'unknown', 'unknown', 'male', 'unknown', 'unknown', 'unknown', 'unknown', 'unknown', 'unknown', 'unknown', 'male', 'unknown', 'female', 'unknown', 'male', 'unknown', 'unknown', 'unknown', 'unknown', 'unknown', 'unknown', 'unknown', 'unknown', 'unknown', 'unknown', 'unknown', 'unknown', 'male', 'unknown', 'female', 'unknown', 'unknown', 'unknown', 'unknown', 'unknown', 'unknown', 'unknown', 'unknown', 'unknown', 'female', 'unknown', 'unknown', 'male', 'unknown', 'male', 'unknown', 'unknown', 'unknown', 'unknown', 'unknown', 'male', 'male', 'male', 'male', 'unknown', 'female', 'unknown', 'unknown', 'male', 'male', 'unknown', 'unknown', 'unknown', 'andy', 'unknown', 'female', 'male', 'unknown', 'unknown', 'unknown', 'male', 'unknown', 'unknown', 'unknown', 'male', 'male', 'male', 'unknown', 'unknown', 'unknown', 'unknown', 'male', 'unknown', 'unknown', 'unknown', 'male', 'unknown', 'unknown', 'unknown', 'unknown', 'unknown', 'unknown', 'unknown', 'unknown', 'female', 'female', 'unknown', 'unknown', 'male', 'unknown', 'male', 'unknown', 'unknown', 'unknown', 'mostly_male', 'male', 'male', 'male', 'unknown', 'male', 'unknown', 'unknown', 'unknown', 'unknown', 'unknown', 'unknown', 'unknown', 'unknown', 'male', 'unknown', 'unknown', 'unknown', 'unknown', 'unknown', 'unknown', 'unknown', 'unknown', 'unknown', 'unknown', 'unknown', 'male', 'unknown', 'unknown', 'unknown', 'unknown', 'unknown', 'male', 'unknown', 'unknown', 'unknown', 'male', 'male', 'male', 'male', 'unknown', 'unknown', 'unknown', 'female', 'unknown', 'unknown', 'male', 'unknown', 'male', 'unknown', 'unknown', 'unknown', 'mostly_male', 'male', 'unknown', 'male', 'unknown', 'unknown', 'female', 'unknown', 'male', 'unknown', 'unknown', 'unknown', 'unknown', 'unknown', 'unknown', 'unknown', 'female', 'male', 'male', 'unknown', 'male', 'male', 'male', 'male', 'unknown', 'unknown', 'unknown', 'female', 'male', 'male', 'unknown', 'male', 'unknown', 'mostly_female', 'male', 'unknown', 'unknown', 'female', 'male', 'unknown', 'male', 'unknown', 'male', 'unknown', 'unknown', 'unknown', 'unknown', 'unknown', 'unknown', 'male', 'male', 'unknown', 'unknown', 'unknown', 'unknown', 'female', 'male', 'unknown', 'unknown', 'unknown', 'female', 'male', 'male', 'unknown', 'unknown', 'unknown', 'unknown', 'unknown', 'unknown', 'unknown', 'unknown', 'unknown', 'mostly_female', 'unknown', 'unknown', 'unknown', 'unknown', 'male', 'male', 'male', 'male', 'female', 'unknown', 'unknown', 'male', 'male', 'unknown', 'unknown', 'unknown', 'unknown', 'unknown', 'unknown', 'unknown', 'unknown', 'unknown', 'unknown', 'unknown', 'unknown', 'male', 'unknown', 'male', 'male', 'unknown', 'unknown', 'unknown', 'unknown', 'male', 'unknown', 'unknown', 'female', 'unknown', 'unknown', 'male', 'male', 'unknown', 'unknown', 'unknown', 'male', 'unknown', 'male', 'unknown', 'unknown', 'unknown', 'female', 'unknown', 'mostly_male', 'mostly_male', 'male', 'unknown', 'unknown', 'unknown', 'unknown', 'male', 'unknown', 'male', 'unknown', 'female', 'male', 'male', 'unknown', 'unknown', 'unknown', 'unknown', 'unknown', 'male', 'unknown', 'unknown', 'unknown', 'unknown', 'unknown', 'male', 'unknown', 'unknown', 'unknown', 'unknown', 'unknown', 'female', 'male', 'unknown', 'unknown', 'unknown', 'unknown', 'unknown', 'unknown', 'male', 'male', 'unknown', 'unknown', 'male', 'male', 'male', 'mostly_male', 'unknown', 'unknown', 'male', 'andy', 'unknown', 'unknown', 'unknown', 'male', 'unknown', 'unknown', 'unknown', 'male', 'unknown', 'unknown', 'unknown', 'unknown', 'unknown', 'male', 'unknown', 'unknown', 'male', 'unknown', 'unknown', 'unknown', 'male', 'unknown', 'unknown', 'unknown', 'male', 'unknown', 'unknown', 'unknown', 'mostly_female', 'unknown', 'male', 'unknown', 'unknown', 'unknown', 'unknown', 'unknown', 'male', 'unknown', 'unknown', 'unknown', 'male', 'male', 'unknown', 'unknown', 'male', 'female', 'unknown', 'unknown', 'female', 'unknown', 'unknown', 'unknown', 'female', 'unknown', 'unknown', 'mostly_female', 'unknown', 'unknown', 'unknown', 'unknown', 'unknown', 'unknown', 'female', 'unknown', 'female', 'male', 'female', 'mostly_female', 'unknown', 'unknown', 'male', 'unknown', 'unknown', 'male', 'unknown', 'male', 'male', 'unknown', 'unknown', 'male', 'male', 'unknown', 'unknown', 'unknown', 'unknown', 'male', 'mostly_female', 'unknown', 'unknown', 'unknown', 'male', 'unknown', 'unknown', 'unknown', 'unknown', 'unknown', 'male', 'unknown', 'unknown', 'unknown', 'unknown', 'unknown', 'female', 'unknown', 'unknown', 'unknown', 'unknown', 'unknown', 'unknown', 'unknown', 'unknown', 'unknown', 'female', 'unknown', 'unknown', 'female', 'unknown', 'unknown', 'unknown', 'female', 'female', 'unknown', 'unknown', 'unknown', 'unknown', 'unknown', 'female', 'unknown', 'unknown', 'unknown', 'male', 'unknown', 'unknown', 'unknown', 'unknown', 'male', 'unknown', 'unknown', 'unknown', 'unknown', 'unknown', 'unknown', 'unknown', 'male', 'unknown', 'female', 'female', 'female', 'unknown', 'unknown', 'unknown', 'male', 'unknown', 'unknown', 'unknown', 'unknown', 'mostly_female', 'male', 'unknown', 'unknown', 'female', 'unknown', 'unknown', 'unknown', 'unknown', 'male', 'mostly_female', 'unknown', 'unknown', 'female', 'unknown', 'unknown', 'unknown', 'unknown', 'unknown', 'unknown', 'unknown', 'unknown', 'unknown', 'unknown', 'unknown', 'unknown', 'unknown', 'female', 'unknown', 'unknown', 'unknown', 'unknown', 'unknown', 'unknown', 'unknown', 'unknown', 'unknown', 'female', 'mostly_female', 'female', 'female', 'male', 'male', 'male', 'unknown', 'unknown', 'mostly_female', 'unknown', 'unknown', 'male', 'male', 'unknown', 'male', 'unknown', 'unknown', 'unknown', 'unknown', 'unknown', 'unknown', 'unknown', 'unknown', 'unknown', 'unknown', 'unknown', 'unknown', 'male', 'male', 'unknown', 'female', 'unknown', 'male', 'unknown', 'unknown', 'male', 'unknown', 'male', 'unknown', 'unknown', 'unknown', 'unknown', 'unknown', 'unknown', 'unknown', 'unknown', 'unknown', 'male', 'male', 'unknown', 'unknown', 'unknown', 'unknown', 'unknown', 'male', 'female', 'unknown', 'unknown', 'unknown', 'unknown', 'male', 'male', 'female', 'unknown', 'male', 'unknown', 'unknown', 'male', 'male', 'unknown', 'unknown', 'male', 'unknown', 'andy', 'unknown', 'unknown', 'male', 'male', 'male', 'unknown', 'male', 'unknown', 'unknown', 'unknown', 'male', 'unknown', 'unknown', 'unknown', 'unknown', 'unknown', 'unknown', 'unknown', 'male', 'unknown', 'female', 'unknown', 'unknown', 'unknown', 'mostly_male', 'male', 'male', 'unknown', 'male', 'unknown', 'mostly_male', 'female', 'unknown', 'male', 'unknown', 'unknown', 'unknown', 'unknown', 'male', 'unknown', 'unknown', 'unknown', 'unknown', 'unknown', 'unknown', 'male', 'male', 'unknown', 'unknown', 'unknown', 'unknown', 'unknown', 'unknown', 'unknown', 'unknown', 'male', 'unknown', 'unknown', 'unknown', 'female', 'unknown', 'unknown', 'unknown', 'unknown', 'unknown', 'female', 'unknown', 'unknown', 'unknown', 'male', 'male', 'unknown', 'unknown', 'unknown', 'male', 'unknown', 'unknown', 'male', 'unknown', 'unknown', 'unknown', 'unknown', 'mostly_male', 'unknown', 'unknown', 'unknown', 'unknown', 'unknown', 'unknown', 'unknown', 'female', 'unknown', 'unknown', 'unknown', 'unknown', 'unknown', 'female', 'unknown', 'unknown', 'unknown', 'unknown', 'unknown', 'male', 'unknown', 'unknown', 'unknown', 'unknown', 'unknown', 'unknown', 'unknown', 'unknown', 'male', 'unknown', 'unknown', 'unknown', 'unknown', 'unknown', 'mostly_female', 'unknown', 'unknown', 'unknown', 'female', 'female', 'unknown', 'unknown', 'unknown', 'mostly_male', 'unknown', 'unknown', 'unknown', 'unknown', 'unknown', 'unknown', 'unknown', 'male', 'male', 'unknown', 'unknown', 'unknown', 'unknown', 'unknown', 'female', 'unknown', 'unknown', 'male', 'unknown', 'unknown', 'unknown', 'unknown', 'mostly_female', 'unknown', 'unknown', 'female', 'unknown', 'unknown', 'unknown', 'unknown', 'male', 'unknown', 'unknown', 'unknown', 'male', 'unknown', 'unknown', 'male', 'male', 'unknown', 'female', 'unknown', 'unknown', 'male', 'male', 'male', 'male', 'unknown', 'unknown', 'unknown', 'unknown', 'unknown', 'unknown', 'unknown', 'unknown', 'unknown', 'unknown', 'unknown', 'unknown', 'unknown', 'mostly_female', 'male', 'unknown', 'unknown', 'unknown', 'unknown', 'unknown', 'andy', 'unknown', 'unknown', 'unknown', 'unknown', 'unknown', 'male', 'unknown', 'unknown', 'unknown', 'unknown', 'unknown', 'unknown', 'unknown', 'female', 'unknown', 'unknown', 'unknown', 'unknown', 'unknown', 'unknown', 'female', 'unknown', 'unknown', 'unknown', 'male', 'unknown', 'unknown', 'unknown', 'unknown', 'unknown', 'unknown', 'male', 'unknown', 'unknown', 'unknown', 'unknown', 'unknown', 'unknown', 'unknown', 'unknown', 'unknown', 'unknown', 'male', 'unknown', 'unknown', 'unknown', 'male', 'mostly_male', 'unknown', 'male', 'male', 'unknown', 'unknown', 'male', 'male', 'male', 'male', 'andy', 'unknown', 'unknown', 'female', 'unknown', 'unknown', 'male', 'unknown', 'unknown', 'unknown', 'unknown', 'unknown', 'male', 'female', 'female', 'unknown', 'unknown', 'male', 'unknown', 'unknown', 'unknown', 'unknown', 'male', 'male', 'unknown', 'unknown', 'unknown', 'unknown', 'unknown', 'unknown', 'unknown', 'unknown', 'unknown', 'unknown', 'unknown', 'unknown', 'unknown', 'male', 'unknown', 'unknown', 'unknown', 'unknown', 'unknown', 'unknown', 'male', 'unknown', 'unknown', 'female', 'unknown', 'unknown']\n",
    "\n",
    "# Checking results\n",
    "# chef['GENDER_GUESS'].value_counts()\n",
    "\n",
    "## OUTPUT\n",
    "# unknown          1385\n",
    "# male              381\n",
    "# female            125\n",
    "# mostly_male        24\n",
    "# mostly_female      21\n",
    "# andy               10\n",
    "# Name: GENDER_GUESS, dtype: int64\n",
    "\n",
    "# Reducing the number of \"unknown\" gender \n",
    "\n",
    "for index, row in chef.iterrows():\n",
    "\n",
    "    # First nested condition for Gender guessed as \"unknown\"\n",
    "    if 'unknown' in chef.loc[index, 'GENDER_GUESS']:\n",
    "\n",
    "        if chef.loc[index, 'FIRST_NAME'].endswith('a'):\n",
    "            chef.loc[index, 'GENDER_GUESS'] = 'female'\n",
    "            \n",
    "        elif chef.loc[index, 'FIRST_NAME'].endswith('o'):\n",
    "            chef.loc[index, 'GENDER_GUESS'] = 'male'\n",
    "            \n",
    "        elif chef.loc[index, 'FIRST_NAME'].endswith('r'):\n",
    "            chef.loc[index, 'GENDER_GUESS'] = 'male'\n",
    "            \n",
    "        elif chef.loc[index, 'FIRST_NAME'].endswith('d'):\n",
    "            chef.loc[index, 'GENDER_GUESS'] = 'male'\n",
    "            \n",
    "        elif chef.loc[index, 'FIRST_NAME'].endswith('lin'):\n",
    "            chef.loc[index, 'GENDER_GUESS'] = 'female'\n",
    "\n",
    "        elif chef.loc[index, 'FIRST_NAME'].endswith('lyn'):\n",
    "            chef.loc[index, 'GENDER_GUESS'] = 'female'\n",
    "            \n",
    "        elif chef.loc[index, 'FIRST_NAME'].endswith('on'):\n",
    "            chef.loc[index, 'GENDER_GUESS'] = 'male'\n",
    "            \n",
    "        elif chef.loc[index, 'FIRST_NAME'].endswith('os'):\n",
    "            chef.loc[index, 'GENDER_GUESS'] = 'male'\n",
    "            \n",
    "        elif chef.loc[index, 'FIRST_NAME'].endswith('ne'):\n",
    "            chef.loc[index, 'GENDER_GUESS'] = 'female'\n",
    "            \n",
    "        elif chef.loc[index, 'FIRST_NAME'].endswith('en'):\n",
    "            chef.loc[index, 'GENDER_GUESS'] = 'male'\n",
    "            \n",
    "        elif chef.loc[index, 'FIRST_NAME'].endswith('s'):\n",
    "            chef.loc[index, 'GENDER_GUESS'] = 'male'\n",
    "            \n",
    "        elif chef.loc[index, 'FIRST_NAME'].endswith('se'):\n",
    "            chef.loc[index, 'GENDER_GUESS'] = 'female'\n",
    "            \n",
    "        elif chef.loc[index, 'FIRST_NAME'].endswith('k'):\n",
    "            chef.loc[index, 'GENDER_GUESS'] = 'male'\n",
    "            \n",
    "        elif chef.loc[index, 'FIRST_NAME'].endswith('e'):\n",
    "            chef.loc[index, 'GENDER_GUESS'] = 'female'\n",
    "            \n",
    "        elif chef.loc[index, 'FIRST_NAME'].endswith('y'):\n",
    "            chef.loc[index, 'GENDER_GUESS'] = 'female'\n",
    "    \n",
    "    # Second condition for Gender guessed as \"mostly_male\"\n",
    "    elif 'mostly_male' in chef.loc[index, 'GENDER_GUESS']:\n",
    "        chef.loc[index, 'GENDER_GUESS'] = 'male'\n",
    "    \n",
    "    # Third condition for Gender guessed as \"mostly_female\"\n",
    "    elif 'mostly_female' in chef.loc[index, 'GENDER_GUESS']:\n",
    "        chef.loc[index, 'GENDER_GUESS'] = 'female'\n",
    "    \n",
    "    # Fourth condition for Gender guessed as \"andy\"\n",
    "    elif 'andy' in chef.loc[index, 'GENDER_GUESS']:\n",
    "        chef.loc[index, 'GENDER_GUESS'] = 'male'\n",
    "        \n",
    "# Checking results\n",
    "# chef['GENDER_GUESS'].value_counts()\n",
    "\n",
    "\n",
    "## OUTPUT\n",
    "# male       1082\n",
    "# female      516\n",
    "# unknown     348\n",
    "# Name: GENDER_GUESS, dtype: int64\n",
    "\n",
    "# categorical_boxplots(response = 'LOG_REVENUE', cat_var = 'GENDER_GUESS', data = chef)\n",
    "\n",
    "# one hot encoding GENDER categorical variable\n",
    "GENDER_DUMMIES       = pd.get_dummies(chef['GENDER_GUESS'])\n",
    "\n",
    "# dropping categorical variables after they've been encoded\n",
    "chef = chef.drop('GENDER_GUESS', axis = 1)\n",
    "\n",
    "# joining codings together\n",
    "chef = chef.join([GENDER_DUMMIES])\n",
    "\n",
    "# saving new columns\n",
    "new_columns = chef.columns"
   ]
  },
  {
   "cell_type": "markdown",
   "metadata": {},
   "source": [
    "### Email Addresses"
   ]
  },
  {
   "cell_type": "code",
   "execution_count": 23,
   "metadata": {},
   "outputs": [],
   "source": [
    "# Divide the emails by domain knowledge provided by Customer Service Team\n",
    "professional = [\"mmm.com\", \"amex.com\", \"apple.com\", \"boeing.com\", \"caterpillar.com\",\n",
    "    \"chevron.com\", \"cisco.com\", \"cocacola.com\", \"disney.com\", \"dupont.com\",\n",
    "    \"exxon.com\", \"ge.org\", \"goldmansacs.com\", \"homedepot.com\", \"ibm.com\",\n",
    "    \"intel.com\", \"jnj.com\", \"jpmorgan.com\", \"mcdonalds.com\", \"merck.com\",\n",
    "    \"microsoft.com\", \"nike.com\", \"pfizer.com\", \"pg.com\", \"travelers.com\",\n",
    "    \"unitedtech.com\", \"unitedhealth.com\", \"verizon.com\", \"visa.com\",\n",
    "    \"walmart.com\"]\n",
    "\n",
    "personal = [\"gmail.com\", \"yahoo.com\", \"protonmail.com\"]\n",
    "\n",
    "junk = [\"me.com\", \"aol.com\", \"hotmail.com\", \"live.com\", \"msn.com\", \"passport.com\"]\n",
    "\n",
    "# Split by @ and select domains\n",
    "chef['EMAIL_DOMAIN'] = chef.EMAIL.str.split('@', expand=True)[1]\n",
    "\n",
    "# Create email_type column\n",
    "chef['EMAIL_TYPE'] = '0'\n",
    "\n",
    "# Populate the Email Type column by if else statements\n",
    "for index, row in chef.iterrows():\n",
    "\n",
    "    if chef.loc[index, 'EMAIL_DOMAIN'] in professional:\n",
    "        chef.loc[index, 'EMAIL_TYPE'] = 'professional'\n",
    "    elif chef.loc[index, 'EMAIL_DOMAIN'] in personal:\n",
    "        chef.loc[index, 'EMAIL_TYPE'] = 'personal'\n",
    "    elif chef.loc[index, 'EMAIL_DOMAIN'] in junk:\n",
    "        chef.loc[index, 'EMAIL_TYPE'] = 'junk'\n",
    "    elif chef.loc[index, 'EMAIL_DOMAIN'] not in professional or chef.loc[row, 'EMAIL'] not in personal or chef.loc[row, 'EMAIL'] not in junk:\n",
    "        chef.loc[index, 'EMAIL_TYPE'] = 'unknown'\n",
    "    else:\n",
    "        print('Houston, we have a problem')\n",
    "\n",
    "# Checking results\n",
    "chef['EMAIL_TYPE'].value_counts()\n",
    "\n",
    "## OUTPUT\n",
    "\n",
    "# personal        861\n",
    "# professional    696\n",
    "# junk            389\n",
    "# Name: EMAIL_TYPE, dtype: int64\n",
    "\n",
    "# Distribution of Email Type\n",
    "# categorical_boxplots(response = 'LOG_REVENUE', cat_var = 'EMAIL_TYPE', data = chef)\n",
    "\n",
    "# one hot encoding categorical variable\n",
    "EMAIL_TYPE_DUMMIES       = pd.get_dummies(chef['EMAIL_TYPE'])\n",
    "\n",
    "# dropping categorical variables after they've been encoded\n",
    "chef = chef.drop('EMAIL_TYPE', axis = 1)\n",
    "\n",
    "# joining codings together\n",
    "chef = chef.join([EMAIL_TYPE_DUMMIES])\n",
    "\n",
    "# saving new columns\n",
    "new_columns = chef.columns"
   ]
  },
  {
   "cell_type": "markdown",
   "metadata": {},
   "source": [
    "### Cancellations & Customer Service"
   ]
  },
  {
   "cell_type": "code",
   "execution_count": 24,
   "metadata": {},
   "outputs": [],
   "source": [
    "# New variable combining all cancellations\n",
    "chef['CANCELLATIONS'] = chef['CANCELLATIONS_BEFORE_NOON'] + chef['CANCELLATIONS_AFTER_NOON']\n",
    "\n",
    "# Creating dummy variable to know if a customer has ever cancelled an order\n",
    "chef['HAS_CANCELLED']  = 0\n",
    "\n",
    "# iterating over each original column to change values in the new feature columns\n",
    "for index, value in chef.iterrows():\n",
    "    \n",
    "    # Cancellations\n",
    "    if chef.loc[index, 'CANCELLATIONS'] > 0:\n",
    "        chef.loc[index, 'HAS_CANCELLED'] = 1\n",
    "\n",
    "\n",
    "# Creating dummy variable to know if a customer has ever cancelled an order after noon        \n",
    "chef['HAS_CANCELLED_AF']  = 0\n",
    "\n",
    "# iterating over each original column to change values in the new feature columns\n",
    "for index, value in chef.iterrows():\n",
    "    \n",
    "    # Cancellations after noon\n",
    "    if chef.loc[index, 'CANCELLATIONS_AFTER_NOON'] > 0:\n",
    "        chef.loc[index, 'HAS_CANCELLED_AF'] = 1\n",
    "\n",
    "# Creating dummy variable to know if a customer has ever cancelled an order before noon        \n",
    "chef['HAS_CANCELLED_BF']  = 0\n",
    "\n",
    "# iterating over each original column to change values in the new feature columns\n",
    "for index, value in chef.iterrows():\n",
    "    \n",
    "    # Cancellations after noon\n",
    "    if chef.loc[index, 'CANCELLATIONS_BEFORE_NOON'] > 0:\n",
    "        chef.loc[index, 'HAS_CANCELLED_BF'] = 1"
   ]
  },
  {
   "cell_type": "code",
   "execution_count": 25,
   "metadata": {},
   "outputs": [
    {
     "data": {
      "image/png": "[encoded data removed]",
      "text/plain": [
       "<Figure size 360x360 with 1 Axes>"
      ]
     },
     "metadata": {
      "needs_background": "light"
     },
     "output_type": "display_data"
    },
    {
     "data": {
      "text/plain": [
       "<seaborn.axisgrid.FacetGrid at 0x7fb56ce03130>"
      ]
     },
     "execution_count": 25,
     "metadata": {},
     "output_type": "execute_result"
    },
    {
     "data": {
      "image/png": "[encoded data removed]",
      "text/plain": [
       "<Figure size 360x360 with 1 Axes>"
      ]
     },
     "metadata": {
      "needs_background": "light"
     },
     "output_type": "display_data"
    }
   ],
   "source": [
    "# Plotting original distribution of contacts with customer service\n",
    "displot(data = chef, x = 'CONTACTS_W_CUSTOMER_SERVICE', height = 5, aspect = 2,\n",
    "       title = \"Original Distribution of Contacts with Customer Service per Customer\", \n",
    "       xlabel = \"Revenue\",\n",
    "       ylabel = \"Count\")\n",
    "\n",
    "# Distribution is skewed positive\n",
    "# Log transformation of number of contacts with customer service\n",
    "chef['LOG_CONTACTS_W_CUSTOMER_SERVICE'] = np.log10(chef['CONTACTS_W_CUSTOMER_SERVICE'])\n",
    "sns.displot(chef['LOG_CONTACTS_W_CUSTOMER_SERVICE'])"
   ]
  },
  {
   "cell_type": "markdown",
   "metadata": {},
   "source": [
    "### Orders"
   ]
  },
  {
   "cell_type": "code",
   "execution_count": 26,
   "metadata": {},
   "outputs": [
    {
     "data": {
      "image/png": "[encoded data removed]",
      "text/plain": [
       "<Figure size 360x360 with 1 Axes>"
      ]
     },
     "metadata": {
      "needs_background": "light"
     },
     "output_type": "display_data"
    },
    {
     "data": {
      "text/plain": [
       "<seaborn.axisgrid.FacetGrid at 0x7fb56ce24070>"
      ]
     },
     "execution_count": 26,
     "metadata": {},
     "output_type": "execute_result"
    },
    {
     "data": {
      "image/png": "[encoded data removed]",
      "text/plain": [
       "<Figure size 360x360 with 1 Axes>"
      ]
     },
     "metadata": {
      "needs_background": "light"
     },
     "output_type": "display_data"
    }
   ],
   "source": [
    "# Plotting original distribution of total meals ordered\n",
    "displot(data = chef, x = 'TOTAL_MEALS_ORDERED', height = 5, aspect = 2,\n",
    "       title = \"Original Distribution of Total Meals Ordered per customer\", \n",
    "       xlabel = \"Revenue\",\n",
    "       ylabel = \"Count\")\n",
    "\n",
    "# Distribution is skewed positive\n",
    "# Log transformation of number of contacts with customer service\n",
    "chef['LOG_TOTAL_MEALS_ORDERED'] = np.log10(chef['TOTAL_MEALS_ORDERED'])\n",
    "sns.displot(chef['LOG_TOTAL_MEALS_ORDERED'])"
   ]
  },
  {
   "cell_type": "code",
   "execution_count": 27,
   "metadata": {},
   "outputs": [],
   "source": [
    "# New variable to sum up Total Orders \n",
    "chef['TOTAL_ORDERS'] = chef['TOTAL_MEALS_ORDERED'] / chef['AVG_NB_MEALS']\n",
    "\n",
    "## Visualizing distribution of total orders \n",
    "# displot(data = chef, x = 'TOTAL_ORDERS', height = 5, aspect = 2,\n",
    "#       title = \"Original Distribution of Total Orders\", \n",
    "#       xlabel = \"Total Orders\",\n",
    "#       ylabel = \"Count\")\n",
    "\n",
    "## Total Orders distribution is skewed positive\n",
    "# log transforming TOTAL_ORDERS and saving it to the dataset\n",
    "chef['LOG_TOTAL_ORDERS'] = np.log10(chef['TOTAL_ORDERS'])\n",
    "\n",
    "# sns.displot(chef['LOG_TOTAL_ORDERS'])\n",
    "\n",
    "# log transforming AVG_NB_MEALS & UNIQUE_MEALS_PURCH and saving them to the dataset\n",
    "chef['LOG_AVG_NB_MEALS'] = np.log10(chef['AVG_NB_MEALS'])\n",
    "chef['LOG_UNIQUE_MEALS_PURCH'] = np.log10(chef['UNIQUE_MEALS_PURCH'])\n",
    "\n",
    "# New variable to calculate the number of unique orders\n",
    "chef['UNIQUE_ORDERS'] = chef['UNIQUE_MEALS_PURCH'] / chef['TOTAL_MEALS_ORDERED']\n",
    "# Log Transformation\n",
    "chef['LOG_UNIQUE_ORDERS'] = np.log10(chef['UNIQUE_ORDERS'])\n",
    "\n",
    "# New variable to calculate the actual orders\n",
    "chef['ACTUAL_ORDERS'] = chef['TOTAL_MEALS_ORDERED'] - chef['CANCELLATIONS']\n",
    "# Log Transformation\n",
    "chef['LOG_ACTUAL_ORDERS'] = np.log10(chef['ACTUAL_ORDERS'])"
   ]
  },
  {
   "cell_type": "code",
   "execution_count": 28,
   "metadata": {},
   "outputs": [],
   "source": [
    "# developing a correlation matrix\n",
    "order_corr = chef.loc[ : , ['LOG_TOTAL_ORDERS',\n",
    "                              'LOG_REVENUE']  ].corr(method = 'pearson')\\\n",
    "                                              .round(decimals = 2)\n",
    "\n",
    "# printing correlation\n",
    "# order_corr['LOG_REVENUE']\n",
    "\n",
    "## OUTPUT \n",
    "\n",
    "# LOG_TOTAL_ORDERS    0.5\n",
    "# LOG_REVENUE         1.0\n",
    "# Name: LOG_REVENUE, dtype: float64"
   ]
  },
  {
   "cell_type": "markdown",
   "metadata": {},
   "source": [
    "### Online Behavior"
   ]
  },
  {
   "cell_type": "code",
   "execution_count": 29,
   "metadata": {},
   "outputs": [],
   "source": [
    "# Log transformation of average time spent per visit on the website\n",
    "chef['LOG_AVG_TIME_PER_SITE_VISIT'] = np.log10(chef['AVG_TIME_PER_SITE_VISIT'])\n",
    "\n",
    "# New variable to sum up total number of logins \n",
    "chef['TOTAL_LOGINS'] = chef['PC_LOGINS'] + chef['MOBILE_LOGINS']\n",
    "\n",
    "# New variable to sum up total photos viewed per login\n",
    "chef['PHOTOS_VIEWED_PER_LOGIN'] = chef['TOTAL_PHOTOS_VIEWED'] / chef['TOTAL_LOGINS']\n",
    "\n",
    "# New variable to sum up total time spent on the website\n",
    "chef['TIME_SPENT_ON_WEBSITE'] = (chef['PC_LOGINS'] + chef['MOBILE_LOGINS']) * chef['AVG_TIME_PER_SITE_VISIT']\n",
    "# Log transformation of total time spent on the website\n",
    "chef['LOG_TIME_SPENT_ON_WEBSITE'] = np.log10(chef['TIME_SPENT_ON_WEBSITE'])"
   ]
  },
  {
   "cell_type": "code",
   "execution_count": null,
   "metadata": {},
   "outputs": [],
   "source": [
    "# saving results\n",
    "titanic.to_excel('./datasets/titanic_feature_rich.xlsx',\n",
    "                 index = False)"
   ]
  },
  {
   "cell_type": "markdown",
   "metadata": {},
   "source": [
    "## Train testing"
   ]
  },
  {
   "cell_type": "code",
   "execution_count": 30,
   "metadata": {},
   "outputs": [],
   "source": [
    "# creating a (Pearson) correlation matrix\n",
    "df_corr = chef.corr().round(2)\n",
    "\n",
    "\n",
    "# printing (Pearson) correlations with SalePrice\n",
    "# print(df_corr.loc['LOG_REVENUE'].sort_values(ascending = False))"
   ]
  },
  {
   "cell_type": "code",
   "execution_count": 31,
   "metadata": {},
   "outputs": [],
   "source": [
    "# making a copy of housing\n",
    "chef_explanatory = chef.copy()\n",
    "\n",
    "\n",
    "# dropping SalePrice and Order from the explanatory variable set\n",
    "chef_explanatory = chef_explanatory.drop(['NAME', 'EMAIL', 'FIRST_NAME', 'FAMILY_NAME', 'EMAIL_DOMAIN',\n",
    "                                         'M_FAMILY_NAME', 'REVENUE', 'LOG_REVENUE', 'TOTAL_MEALS_ORDERED',\n",
    "                                         'LOG_UNIQUE_MEALS_PURCH', 'CONTACTS_W_CUSTOMER_SERVICE', \n",
    "                                         'AVG_TIME_PER_SITE_VISIT','AVG_PREP_VID_TIME', 'LOG_AVG_NB_MEALS', \n",
    "                                         'LOG_MEDIAN_MEAL_RATING','LOG_AVG_CLICKS_PER_VISIT', 'TOTAL_ORDERS', \n",
    "                                         'TIME_SPENT_ON_WEBSITE', 'ACTUAL_ORDERS','UNIQUE_ORDERS'], axis = 1)\n",
    "\n",
    "\n",
    "# formatting each explanatory variable for statsmodels\n",
    "# for val in chef_explanatory:\n",
    "#    print(f\"{val} +\")"
   ]
  },
  {
   "cell_type": "code",
   "execution_count": 32,
   "metadata": {},
   "outputs": [
    {
     "data": {
      "text/html": [
       "<table class=\"simpletable\">\n",
       "<caption>OLS Regression Results</caption>\n",
       "<tr>\n",
       "  <th>Dep. Variable:</th>       <td>LOG_REVENUE</td>   <th>  R-squared:         </th> <td>   0.784</td>\n",
       "</tr>\n",
       "<tr>\n",
       "  <th>Model:</th>                   <td>OLS</td>       <th>  Adj. R-squared:    </th> <td>   0.779</td>\n",
       "</tr>\n",
       "<tr>\n",
       "  <th>Method:</th>             <td>Least Squares</td>  <th>  F-statistic:       </th> <td>   160.5</td>\n",
       "</tr>\n",
       "<tr>\n",
       "  <th>Date:</th>             <td>Tue, 09 Feb 2021</td> <th>  Prob (F-statistic):</th>  <td>  0.00</td> \n",
       "</tr>\n",
       "<tr>\n",
       "  <th>Time:</th>                 <td>19:41:18</td>     <th>  Log-Likelihood:    </th> <td>  1750.7</td>\n",
       "</tr>\n",
       "<tr>\n",
       "  <th>No. Observations:</th>      <td>  1946</td>      <th>  AIC:               </th> <td>  -3413.</td>\n",
       "</tr>\n",
       "<tr>\n",
       "  <th>Df Residuals:</th>          <td>  1902</td>      <th>  BIC:               </th> <td>  -3168.</td>\n",
       "</tr>\n",
       "<tr>\n",
       "  <th>Df Model:</th>              <td>    43</td>      <th>                     </th>     <td> </td>   \n",
       "</tr>\n",
       "<tr>\n",
       "  <th>Covariance Type:</th>      <td>nonrobust</td>    <th>                     </th>     <td> </td>   \n",
       "</tr>\n",
       "</table>\n",
       "<table class=\"simpletable\">\n",
       "<tr>\n",
       "                  <td></td>                    <th>coef</th>     <th>std err</th>      <th>t</th>      <th>P>|t|</th>  <th>[0.025</th>    <th>0.975]</th>  \n",
       "</tr>\n",
       "<tr>\n",
       "  <th>Intercept</th>                        <td>    0.8002</td> <td>    0.164</td> <td>    4.875</td> <td> 0.000</td> <td>    0.478</td> <td>    1.122</td>\n",
       "</tr>\n",
       "<tr>\n",
       "  <th>CROSS_SELL_SUCCESS</th>               <td>   -0.0075</td> <td>    0.003</td> <td>   -2.839</td> <td> 0.005</td> <td>   -0.013</td> <td>   -0.002</td>\n",
       "</tr>\n",
       "<tr>\n",
       "  <th>UNIQUE_MEALS_PURCH</th>               <td>    0.0492</td> <td>    0.003</td> <td>   17.370</td> <td> 0.000</td> <td>    0.044</td> <td>    0.055</td>\n",
       "</tr>\n",
       "<tr>\n",
       "  <th>PRODUCT_CATEGORIES_VIEWED</th>        <td>    0.0011</td> <td>    0.001</td> <td>    1.513</td> <td> 0.130</td> <td>   -0.000</td> <td>    0.003</td>\n",
       "</tr>\n",
       "<tr>\n",
       "  <th>MOBILE_NUMBER</th>                    <td>    0.0039</td> <td>    0.004</td> <td>    1.098</td> <td> 0.273</td> <td>   -0.003</td> <td>    0.011</td>\n",
       "</tr>\n",
       "<tr>\n",
       "  <th>CANCELLATIONS_BEFORE_NOON</th>        <td>   -0.0013</td> <td>    0.005</td> <td>   -0.236</td> <td> 0.813</td> <td>   -0.012</td> <td>    0.009</td>\n",
       "</tr>\n",
       "<tr>\n",
       "  <th>CANCELLATIONS_AFTER_NOON</th>         <td>    0.0077</td> <td>    0.010</td> <td>    0.749</td> <td> 0.454</td> <td>   -0.012</td> <td>    0.028</td>\n",
       "</tr>\n",
       "<tr>\n",
       "  <th>TASTES_AND_PREFERENCES</th>           <td>    0.0046</td> <td>    0.003</td> <td>    1.805</td> <td> 0.071</td> <td>   -0.000</td> <td>    0.010</td>\n",
       "</tr>\n",
       "<tr>\n",
       "  <th>PC_LOGINS</th>                        <td>   -0.0123</td> <td>    0.014</td> <td>   -0.872</td> <td> 0.383</td> <td>   -0.040</td> <td>    0.015</td>\n",
       "</tr>\n",
       "<tr>\n",
       "  <th>MOBILE_LOGINS</th>                    <td>   -0.0141</td> <td>    0.014</td> <td>   -1.018</td> <td> 0.309</td> <td>   -0.041</td> <td>    0.013</td>\n",
       "</tr>\n",
       "<tr>\n",
       "  <th>WEEKLY_PLAN</th>                      <td>    0.0001</td> <td>    0.000</td> <td>    0.665</td> <td> 0.506</td> <td>   -0.000</td> <td>    0.001</td>\n",
       "</tr>\n",
       "<tr>\n",
       "  <th>EARLY_DELIVERIES</th>                 <td>   -0.0012</td> <td>    0.001</td> <td>   -1.223</td> <td> 0.221</td> <td>   -0.003</td> <td>    0.001</td>\n",
       "</tr>\n",
       "<tr>\n",
       "  <th>LATE_DELIVERIES</th>                  <td>   -0.0004</td> <td>    0.001</td> <td>   -0.536</td> <td> 0.592</td> <td>   -0.002</td> <td>    0.001</td>\n",
       "</tr>\n",
       "<tr>\n",
       "  <th>PACKAGE_LOCKER</th>                   <td>   -0.0032</td> <td>    0.003</td> <td>   -1.188</td> <td> 0.235</td> <td>   -0.009</td> <td>    0.002</td>\n",
       "</tr>\n",
       "<tr>\n",
       "  <th>REFRIGERATED_LOCKER</th>              <td>   -0.0040</td> <td>    0.004</td> <td>   -0.975</td> <td> 0.330</td> <td>   -0.012</td> <td>    0.004</td>\n",
       "</tr>\n",
       "<tr>\n",
       "  <th>AVG_NB_MEALS</th>                     <td>   -0.0207</td> <td>    0.006</td> <td>   -3.446</td> <td> 0.001</td> <td>   -0.032</td> <td>   -0.009</td>\n",
       "</tr>\n",
       "<tr>\n",
       "  <th>MASTER_CLASSES_ATTENDED</th>          <td>   -0.0704</td> <td>    0.042</td> <td>   -1.672</td> <td> 0.095</td> <td>   -0.153</td> <td>    0.012</td>\n",
       "</tr>\n",
       "<tr>\n",
       "  <th>MEDIAN_MEAL_RATING</th>               <td>    0.0415</td> <td>    0.006</td> <td>    6.459</td> <td> 0.000</td> <td>    0.029</td> <td>    0.054</td>\n",
       "</tr>\n",
       "<tr>\n",
       "  <th>AVG_CLICKS_PER_VISIT</th>             <td>    0.0011</td> <td>    0.002</td> <td>    0.569</td> <td> 0.569</td> <td>   -0.003</td> <td>    0.005</td>\n",
       "</tr>\n",
       "<tr>\n",
       "  <th>TOTAL_PHOTOS_VIEWED</th>              <td>    0.0002</td> <td>    0.000</td> <td>    1.788</td> <td> 0.074</td> <td>-1.93e-05</td> <td>    0.000</td>\n",
       "</tr>\n",
       "<tr>\n",
       "  <th>LOG_AVG_PREP_VID_TIME</th>            <td>    0.5508</td> <td>    0.034</td> <td>   15.967</td> <td> 0.000</td> <td>    0.483</td> <td>    0.618</td>\n",
       "</tr>\n",
       "<tr>\n",
       "  <th>HIGH_TOTAL_MEALS_ORDERED</th>         <td>    0.0869</td> <td>    0.011</td> <td>    7.573</td> <td> 0.000</td> <td>    0.064</td> <td>    0.109</td>\n",
       "</tr>\n",
       "<tr>\n",
       "  <th>HAS_VIEWED_PHOTOS</th>                <td>    0.0195</td> <td>    0.007</td> <td>    2.918</td> <td> 0.004</td> <td>    0.006</td> <td>    0.033</td>\n",
       "</tr>\n",
       "<tr>\n",
       "  <th>LONG_WATCH_TIME</th>                  <td>    0.0243</td> <td>    0.014</td> <td>    1.754</td> <td> 0.080</td> <td>   -0.003</td> <td>    0.052</td>\n",
       "</tr>\n",
       "<tr>\n",
       "  <th>SQUARED_MEDIAN_MEAL_RATING</th>       <td>    0.0136</td> <td>    0.002</td> <td>    7.888</td> <td> 0.000</td> <td>    0.010</td> <td>    0.017</td>\n",
       "</tr>\n",
       "<tr>\n",
       "  <th>HAS_ATTENDED_MASTER_CLASS</th>        <td>    0.1022</td> <td>    0.042</td> <td>    2.411</td> <td> 0.016</td> <td>    0.019</td> <td>    0.185</td>\n",
       "</tr>\n",
       "<tr>\n",
       "  <th>HAS_ATTENDED_SEVERAL_CLASSES</th>     <td>    0.0913</td> <td>    0.044</td> <td>    2.054</td> <td> 0.040</td> <td>    0.004</td> <td>    0.178</td>\n",
       "</tr>\n",
       "<tr>\n",
       "  <th>HAS_WEEKLY_PLAN</th>                  <td>   -0.0137</td> <td>    0.006</td> <td>   -2.266</td> <td> 0.024</td> <td>   -0.025</td> <td>   -0.002</td>\n",
       "</tr>\n",
       "<tr>\n",
       "  <th>HIGH_CONTACTS_W_CUSTOMER_SERVICE</th> <td>    0.0190</td> <td>    0.009</td> <td>    2.200</td> <td> 0.028</td> <td>    0.002</td> <td>    0.036</td>\n",
       "</tr>\n",
       "<tr>\n",
       "  <th>HAS_CROSS_SOLD</th>                   <td>   -0.0075</td> <td>    0.003</td> <td>   -2.839</td> <td> 0.005</td> <td>   -0.013</td> <td>   -0.002</td>\n",
       "</tr>\n",
       "<tr>\n",
       "  <th>HAS_MOBILE_NUMBER</th>                <td>    0.0039</td> <td>    0.004</td> <td>    1.098</td> <td> 0.273</td> <td>   -0.003</td> <td>    0.011</td>\n",
       "</tr>\n",
       "<tr>\n",
       "  <th>HAS_MENTION_TASTES</th>               <td>    0.0046</td> <td>    0.003</td> <td>    1.805</td> <td> 0.071</td> <td>   -0.000</td> <td>    0.010</td>\n",
       "</tr>\n",
       "<tr>\n",
       "  <th>HAS_PACKAGE_LOCKER</th>               <td>   -0.0032</td> <td>    0.003</td> <td>   -1.188</td> <td> 0.235</td> <td>   -0.009</td> <td>    0.002</td>\n",
       "</tr>\n",
       "<tr>\n",
       "  <th>HAS_REFRIGERATED_LOCKER</th>          <td>   -0.0040</td> <td>    0.004</td> <td>   -0.975</td> <td> 0.330</td> <td>   -0.012</td> <td>    0.004</td>\n",
       "</tr>\n",
       "<tr>\n",
       "  <th>female</th>                           <td>    0.2695</td> <td>    0.055</td> <td>    4.908</td> <td> 0.000</td> <td>    0.162</td> <td>    0.377</td>\n",
       "</tr>\n",
       "<tr>\n",
       "  <th>male</th>                             <td>    0.2694</td> <td>    0.055</td> <td>    4.912</td> <td> 0.000</td> <td>    0.162</td> <td>    0.377</td>\n",
       "</tr>\n",
       "<tr>\n",
       "  <th>unknown</th>                          <td>    0.2612</td> <td>    0.055</td> <td>    4.774</td> <td> 0.000</td> <td>    0.154</td> <td>    0.369</td>\n",
       "</tr>\n",
       "<tr>\n",
       "  <th>junk</th>                             <td>    0.2636</td> <td>    0.055</td> <td>    4.803</td> <td> 0.000</td> <td>    0.156</td> <td>    0.371</td>\n",
       "</tr>\n",
       "<tr>\n",
       "  <th>personal</th>                         <td>    0.2702</td> <td>    0.055</td> <td>    4.933</td> <td> 0.000</td> <td>    0.163</td> <td>    0.378</td>\n",
       "</tr>\n",
       "<tr>\n",
       "  <th>professional</th>                     <td>    0.2664</td> <td>    0.055</td> <td>    4.860</td> <td> 0.000</td> <td>    0.159</td> <td>    0.374</td>\n",
       "</tr>\n",
       "<tr>\n",
       "  <th>CANCELLATIONS</th>                    <td>    0.0064</td> <td>    0.005</td> <td>    1.225</td> <td> 0.221</td> <td>   -0.004</td> <td>    0.017</td>\n",
       "</tr>\n",
       "<tr>\n",
       "  <th>HAS_CANCELLED</th>                    <td>    0.0095</td> <td>    0.014</td> <td>    0.690</td> <td> 0.491</td> <td>   -0.017</td> <td>    0.036</td>\n",
       "</tr>\n",
       "<tr>\n",
       "  <th>HAS_CANCELLED_AF</th>                 <td>   -0.0232</td> <td>    0.020</td> <td>   -1.185</td> <td> 0.236</td> <td>   -0.062</td> <td>    0.015</td>\n",
       "</tr>\n",
       "<tr>\n",
       "  <th>HAS_CANCELLED_BF</th>                 <td>   -0.0073</td> <td>    0.013</td> <td>   -0.542</td> <td> 0.588</td> <td>   -0.034</td> <td>    0.019</td>\n",
       "</tr>\n",
       "<tr>\n",
       "  <th>LOG_CONTACTS_W_CUSTOMER_SERVICE</th>  <td>    0.1473</td> <td>    0.023</td> <td>    6.407</td> <td> 0.000</td> <td>    0.102</td> <td>    0.192</td>\n",
       "</tr>\n",
       "<tr>\n",
       "  <th>LOG_TOTAL_MEALS_ORDERED</th>          <td>   -0.8011</td> <td>    0.137</td> <td>   -5.863</td> <td> 0.000</td> <td>   -1.069</td> <td>   -0.533</td>\n",
       "</tr>\n",
       "<tr>\n",
       "  <th>LOG_TOTAL_ORDERS</th>                 <td>   -0.0348</td> <td>    0.057</td> <td>   -0.610</td> <td> 0.542</td> <td>   -0.147</td> <td>    0.077</td>\n",
       "</tr>\n",
       "<tr>\n",
       "  <th>LOG_UNIQUE_ORDERS</th>                <td>   -0.5971</td> <td>    0.027</td> <td>  -22.400</td> <td> 0.000</td> <td>   -0.649</td> <td>   -0.545</td>\n",
       "</tr>\n",
       "<tr>\n",
       "  <th>LOG_ACTUAL_ORDERS</th>                <td>    0.4313</td> <td>    0.118</td> <td>    3.644</td> <td> 0.000</td> <td>    0.199</td> <td>    0.663</td>\n",
       "</tr>\n",
       "<tr>\n",
       "  <th>LOG_AVG_TIME_PER_SITE_VISIT</th>      <td>   -0.5395</td> <td>    0.650</td> <td>   -0.830</td> <td> 0.407</td> <td>   -1.815</td> <td>    0.736</td>\n",
       "</tr>\n",
       "<tr>\n",
       "  <th>TOTAL_LOGINS</th>                     <td>   -0.0264</td> <td>    0.027</td> <td>   -0.966</td> <td> 0.334</td> <td>   -0.080</td> <td>    0.027</td>\n",
       "</tr>\n",
       "<tr>\n",
       "  <th>PHOTOS_VIEWED_PER_LOGIN</th>          <td>   -0.0011</td> <td>    0.001</td> <td>   -1.390</td> <td> 0.165</td> <td>   -0.003</td> <td>    0.000</td>\n",
       "</tr>\n",
       "<tr>\n",
       "  <th>LOG_TIME_SPENT_ON_WEBSITE</th>        <td>    0.5561</td> <td>    0.650</td> <td>    0.855</td> <td> 0.392</td> <td>   -0.719</td> <td>    1.831</td>\n",
       "</tr>\n",
       "</table>\n",
       "<table class=\"simpletable\">\n",
       "<tr>\n",
       "  <th>Omnibus:</th>       <td>304.896</td> <th>  Durbin-Watson:     </th> <td>   2.029</td>\n",
       "</tr>\n",
       "<tr>\n",
       "  <th>Prob(Omnibus):</th> <td> 0.000</td>  <th>  Jarque-Bera (JB):  </th> <td>1568.381</td>\n",
       "</tr>\n",
       "<tr>\n",
       "  <th>Skew:</th>          <td>-0.638</td>  <th>  Prob(JB):          </th> <td>    0.00</td>\n",
       "</tr>\n",
       "<tr>\n",
       "  <th>Kurtosis:</th>      <td> 7.209</td>  <th>  Cond. No.          </th> <td>1.19e+16</td>\n",
       "</tr>\n",
       "</table><br/><br/>Warnings:<br/>[1] Standard Errors assume that the covariance matrix of the errors is correctly specified.<br/>[2] The smallest eigenvalue is 6.21e-25. This might indicate that there are<br/>strong multicollinearity problems or that the design matrix is singular."
      ],
      "text/plain": [
       "<class 'statsmodels.iolib.summary.Summary'>\n",
       "\"\"\"\n",
       "                            OLS Regression Results                            \n",
       "==============================================================================\n",
       "Dep. Variable:            LOG_REVENUE   R-squared:                       0.784\n",
       "Model:                            OLS   Adj. R-squared:                  0.779\n",
       "Method:                 Least Squares   F-statistic:                     160.5\n",
       "Date:                Tue, 09 Feb 2021   Prob (F-statistic):               0.00\n",
       "Time:                        19:41:18   Log-Likelihood:                 1750.7\n",
       "No. Observations:                1946   AIC:                            -3413.\n",
       "Df Residuals:                    1902   BIC:                            -3168.\n",
       "Df Model:                          43                                         \n",
       "Covariance Type:            nonrobust                                         \n",
       "====================================================================================================\n",
       "                                       coef    std err          t      P>|t|      [0.025      0.975]\n",
       "----------------------------------------------------------------------------------------------------\n",
       "Intercept                            0.8002      0.164      4.875      0.000       0.478       1.122\n",
       "CROSS_SELL_SUCCESS                  -0.0075      0.003     -2.839      0.005      -0.013      -0.002\n",
       "UNIQUE_MEALS_PURCH                   0.0492      0.003     17.370      0.000       0.044       0.055\n",
       "PRODUCT_CATEGORIES_VIEWED            0.0011      0.001      1.513      0.130      -0.000       0.003\n",
       "MOBILE_NUMBER                        0.0039      0.004      1.098      0.273      -0.003       0.011\n",
       "CANCELLATIONS_BEFORE_NOON           -0.0013      0.005     -0.236      0.813      -0.012       0.009\n",
       "CANCELLATIONS_AFTER_NOON             0.0077      0.010      0.749      0.454      -0.012       0.028\n",
       "TASTES_AND_PREFERENCES               0.0046      0.003      1.805      0.071      -0.000       0.010\n",
       "PC_LOGINS                           -0.0123      0.014     -0.872      0.383      -0.040       0.015\n",
       "MOBILE_LOGINS                       -0.0141      0.014     -1.018      0.309      -0.041       0.013\n",
       "WEEKLY_PLAN                          0.0001      0.000      0.665      0.506      -0.000       0.001\n",
       "EARLY_DELIVERIES                    -0.0012      0.001     -1.223      0.221      -0.003       0.001\n",
       "LATE_DELIVERIES                     -0.0004      0.001     -0.536      0.592      -0.002       0.001\n",
       "PACKAGE_LOCKER                      -0.0032      0.003     -1.188      0.235      -0.009       0.002\n",
       "REFRIGERATED_LOCKER                 -0.0040      0.004     -0.975      0.330      -0.012       0.004\n",
       "AVG_NB_MEALS                        -0.0207      0.006     -3.446      0.001      -0.032      -0.009\n",
       "MASTER_CLASSES_ATTENDED             -0.0704      0.042     -1.672      0.095      -0.153       0.012\n",
       "MEDIAN_MEAL_RATING                   0.0415      0.006      6.459      0.000       0.029       0.054\n",
       "AVG_CLICKS_PER_VISIT                 0.0011      0.002      0.569      0.569      -0.003       0.005\n",
       "TOTAL_PHOTOS_VIEWED                  0.0002      0.000      1.788      0.074   -1.93e-05       0.000\n",
       "LOG_AVG_PREP_VID_TIME                0.5508      0.034     15.967      0.000       0.483       0.618\n",
       "HIGH_TOTAL_MEALS_ORDERED             0.0869      0.011      7.573      0.000       0.064       0.109\n",
       "HAS_VIEWED_PHOTOS                    0.0195      0.007      2.918      0.004       0.006       0.033\n",
       "LONG_WATCH_TIME                      0.0243      0.014      1.754      0.080      -0.003       0.052\n",
       "SQUARED_MEDIAN_MEAL_RATING           0.0136      0.002      7.888      0.000       0.010       0.017\n",
       "HAS_ATTENDED_MASTER_CLASS            0.1022      0.042      2.411      0.016       0.019       0.185\n",
       "HAS_ATTENDED_SEVERAL_CLASSES         0.0913      0.044      2.054      0.040       0.004       0.178\n",
       "HAS_WEEKLY_PLAN                     -0.0137      0.006     -2.266      0.024      -0.025      -0.002\n",
       "HIGH_CONTACTS_W_CUSTOMER_SERVICE     0.0190      0.009      2.200      0.028       0.002       0.036\n",
       "HAS_CROSS_SOLD                      -0.0075      0.003     -2.839      0.005      -0.013      -0.002\n",
       "HAS_MOBILE_NUMBER                    0.0039      0.004      1.098      0.273      -0.003       0.011\n",
       "HAS_MENTION_TASTES                   0.0046      0.003      1.805      0.071      -0.000       0.010\n",
       "HAS_PACKAGE_LOCKER                  -0.0032      0.003     -1.188      0.235      -0.009       0.002\n",
       "HAS_REFRIGERATED_LOCKER             -0.0040      0.004     -0.975      0.330      -0.012       0.004\n",
       "female                               0.2695      0.055      4.908      0.000       0.162       0.377\n",
       "male                                 0.2694      0.055      4.912      0.000       0.162       0.377\n",
       "unknown                              0.2612      0.055      4.774      0.000       0.154       0.369\n",
       "junk                                 0.2636      0.055      4.803      0.000       0.156       0.371\n",
       "personal                             0.2702      0.055      4.933      0.000       0.163       0.378\n",
       "professional                         0.2664      0.055      4.860      0.000       0.159       0.374\n",
       "CANCELLATIONS                        0.0064      0.005      1.225      0.221      -0.004       0.017\n",
       "HAS_CANCELLED                        0.0095      0.014      0.690      0.491      -0.017       0.036\n",
       "HAS_CANCELLED_AF                    -0.0232      0.020     -1.185      0.236      -0.062       0.015\n",
       "HAS_CANCELLED_BF                    -0.0073      0.013     -0.542      0.588      -0.034       0.019\n",
       "LOG_CONTACTS_W_CUSTOMER_SERVICE      0.1473      0.023      6.407      0.000       0.102       0.192\n",
       "LOG_TOTAL_MEALS_ORDERED             -0.8011      0.137     -5.863      0.000      -1.069      -0.533\n",
       "LOG_TOTAL_ORDERS                    -0.0348      0.057     -0.610      0.542      -0.147       0.077\n",
       "LOG_UNIQUE_ORDERS                   -0.5971      0.027    -22.400      0.000      -0.649      -0.545\n",
       "LOG_ACTUAL_ORDERS                    0.4313      0.118      3.644      0.000       0.199       0.663\n",
       "LOG_AVG_TIME_PER_SITE_VISIT         -0.5395      0.650     -0.830      0.407      -1.815       0.736\n",
       "TOTAL_LOGINS                        -0.0264      0.027     -0.966      0.334      -0.080       0.027\n",
       "PHOTOS_VIEWED_PER_LOGIN             -0.0011      0.001     -1.390      0.165      -0.003       0.000\n",
       "LOG_TIME_SPENT_ON_WEBSITE            0.5561      0.650      0.855      0.392      -0.719       1.831\n",
       "==============================================================================\n",
       "Omnibus:                      304.896   Durbin-Watson:                   2.029\n",
       "Prob(Omnibus):                  0.000   Jarque-Bera (JB):             1568.381\n",
       "Skew:                          -0.638   Prob(JB):                         0.00\n",
       "Kurtosis:                       7.209   Cond. No.                     1.19e+16\n",
       "==============================================================================\n",
       "\n",
       "Warnings:\n",
       "[1] Standard Errors assume that the covariance matrix of the errors is correctly specified.\n",
       "[2] The smallest eigenvalue is 6.21e-25. This might indicate that there are\n",
       "strong multicollinearity problems or that the design matrix is singular.\n",
       "\"\"\""
      ]
     },
     "execution_count": 32,
     "metadata": {},
     "output_type": "execute_result"
    }
   ],
   "source": [
    "lm_full = smf.ols(formula = \"\"\"LOG_REVENUE ~ CROSS_SELL_SUCCESS +\n",
    "                            UNIQUE_MEALS_PURCH +\n",
    "                            PRODUCT_CATEGORIES_VIEWED +\n",
    "                            MOBILE_NUMBER +\n",
    "                            CANCELLATIONS_BEFORE_NOON +\n",
    "                            CANCELLATIONS_AFTER_NOON +\n",
    "                            TASTES_AND_PREFERENCES +\n",
    "                            PC_LOGINS +\n",
    "                            MOBILE_LOGINS +\n",
    "                            WEEKLY_PLAN +\n",
    "                            EARLY_DELIVERIES +\n",
    "                            LATE_DELIVERIES +\n",
    "                            PACKAGE_LOCKER +\n",
    "                            REFRIGERATED_LOCKER +\n",
    "                            AVG_NB_MEALS +\n",
    "                            MASTER_CLASSES_ATTENDED +\n",
    "                            MEDIAN_MEAL_RATING +\n",
    "                            AVG_CLICKS_PER_VISIT +\n",
    "                            TOTAL_PHOTOS_VIEWED +\n",
    "                            LOG_AVG_PREP_VID_TIME +\n",
    "                            HIGH_TOTAL_MEALS_ORDERED +\n",
    "                            HAS_VIEWED_PHOTOS +\n",
    "                            LONG_WATCH_TIME +\n",
    "                            SQUARED_MEDIAN_MEAL_RATING +\n",
    "                            HAS_ATTENDED_MASTER_CLASS +\n",
    "                            HAS_ATTENDED_SEVERAL_CLASSES +\n",
    "                            HAS_WEEKLY_PLAN +\n",
    "                            HIGH_CONTACTS_W_CUSTOMER_SERVICE +\n",
    "                            HAS_CROSS_SOLD +\n",
    "                            HAS_MOBILE_NUMBER +\n",
    "                            HAS_MENTION_TASTES +\n",
    "                            HAS_PACKAGE_LOCKER +\n",
    "                            HAS_REFRIGERATED_LOCKER +\n",
    "                            female +\n",
    "                            male +\n",
    "                            unknown +\n",
    "                            junk +\n",
    "                            personal +\n",
    "                            professional +\n",
    "                            CANCELLATIONS +\n",
    "                            HAS_CANCELLED +\n",
    "                            HAS_CANCELLED_AF +\n",
    "                            HAS_CANCELLED_BF +\n",
    "                            LOG_CONTACTS_W_CUSTOMER_SERVICE +\n",
    "                            LOG_TOTAL_MEALS_ORDERED +\n",
    "                            LOG_TOTAL_ORDERS +\n",
    "                            LOG_UNIQUE_ORDERS +\n",
    "                            LOG_ACTUAL_ORDERS +\n",
    "                            LOG_AVG_TIME_PER_SITE_VISIT +\n",
    "                            TOTAL_LOGINS +\n",
    "                            PHOTOS_VIEWED_PER_LOGIN +\n",
    "                            LOG_TIME_SPENT_ON_WEBSITE\"\"\",\n",
    "                               data = chef)\n",
    "\n",
    "\n",
    "# telling Python to run the data through the blueprint\n",
    "results_full = lm_full.fit()\n",
    "\n",
    "\n",
    "# printing the results\n",
    "results_full.summary()"
   ]
  },
  {
   "cell_type": "code",
   "execution_count": 33,
   "metadata": {},
   "outputs": [
    {
     "data": {
      "text/html": [
       "<table class=\"simpletable\">\n",
       "<caption>OLS Regression Results</caption>\n",
       "<tr>\n",
       "  <th>Dep. Variable:</th>       <td>LOG_REVENUE</td>   <th>  R-squared:         </th> <td>   0.777</td>\n",
       "</tr>\n",
       "<tr>\n",
       "  <th>Model:</th>                   <td>OLS</td>       <th>  Adj. R-squared:    </th> <td>   0.776</td>\n",
       "</tr>\n",
       "<tr>\n",
       "  <th>Method:</th>             <td>Least Squares</td>  <th>  F-statistic:       </th> <td>   517.8</td>\n",
       "</tr>\n",
       "<tr>\n",
       "  <th>Date:</th>             <td>Tue, 09 Feb 2021</td> <th>  Prob (F-statistic):</th>  <td>  0.00</td> \n",
       "</tr>\n",
       "<tr>\n",
       "  <th>Time:</th>                 <td>19:41:18</td>     <th>  Log-Likelihood:    </th> <td>  1719.7</td>\n",
       "</tr>\n",
       "<tr>\n",
       "  <th>No. Observations:</th>      <td>  1946</td>      <th>  AIC:               </th> <td>  -3411.</td>\n",
       "</tr>\n",
       "<tr>\n",
       "  <th>Df Residuals:</th>          <td>  1932</td>      <th>  BIC:               </th> <td>  -3333.</td>\n",
       "</tr>\n",
       "<tr>\n",
       "  <th>Df Model:</th>              <td>    13</td>      <th>                     </th>     <td> </td>   \n",
       "</tr>\n",
       "<tr>\n",
       "  <th>Covariance Type:</th>      <td>nonrobust</td>    <th>                     </th>     <td> </td>   \n",
       "</tr>\n",
       "</table>\n",
       "<table class=\"simpletable\">\n",
       "<tr>\n",
       "                 <td></td>                    <th>coef</th>     <th>std err</th>      <th>t</th>      <th>P>|t|</th>  <th>[0.025</th>    <th>0.975]</th>  \n",
       "</tr>\n",
       "<tr>\n",
       "  <th>Intercept</th>                       <td>    1.5521</td> <td>    0.060</td> <td>   26.079</td> <td> 0.000</td> <td>    1.435</td> <td>    1.669</td>\n",
       "</tr>\n",
       "<tr>\n",
       "  <th>LOG_TOTAL_MEALS_ORDERED</th>         <td>   -0.6414</td> <td>    0.092</td> <td>   -6.956</td> <td> 0.000</td> <td>   -0.822</td> <td>   -0.461</td>\n",
       "</tr>\n",
       "<tr>\n",
       "  <th>LOG_ACTUAL_ORDERS</th>               <td>    0.2536</td> <td>    0.085</td> <td>    2.977</td> <td> 0.003</td> <td>    0.087</td> <td>    0.421</td>\n",
       "</tr>\n",
       "<tr>\n",
       "  <th>LOG_AVG_PREP_VID_TIME</th>           <td>    0.5571</td> <td>    0.033</td> <td>   16.740</td> <td> 0.000</td> <td>    0.492</td> <td>    0.622</td>\n",
       "</tr>\n",
       "<tr>\n",
       "  <th>MEDIAN_MEAL_RATING</th>              <td>    0.0416</td> <td>    0.005</td> <td>    9.171</td> <td> 0.000</td> <td>    0.033</td> <td>    0.051</td>\n",
       "</tr>\n",
       "<tr>\n",
       "  <th>HIGH_TOTAL_MEALS_ORDERED</th>        <td>    0.0850</td> <td>    0.011</td> <td>    7.755</td> <td> 0.000</td> <td>    0.063</td> <td>    0.106</td>\n",
       "</tr>\n",
       "<tr>\n",
       "  <th>SQUARED_MEDIAN_MEAL_RATING</th>      <td>    0.0145</td> <td>    0.002</td> <td>    8.814</td> <td> 0.000</td> <td>    0.011</td> <td>    0.018</td>\n",
       "</tr>\n",
       "<tr>\n",
       "  <th>AVG_NB_MEALS</th>                    <td>   -0.0169</td> <td>    0.003</td> <td>   -6.647</td> <td> 0.000</td> <td>   -0.022</td> <td>   -0.012</td>\n",
       "</tr>\n",
       "<tr>\n",
       "  <th>PHOTOS_VIEWED_PER_LOGIN</th>         <td>    0.0006</td> <td> 9.94e-05</td> <td>    5.659</td> <td> 0.000</td> <td>    0.000</td> <td>    0.001</td>\n",
       "</tr>\n",
       "<tr>\n",
       "  <th>LOG_UNIQUE_ORDERS</th>               <td>   -0.5862</td> <td>    0.025</td> <td>  -23.042</td> <td> 0.000</td> <td>   -0.636</td> <td>   -0.536</td>\n",
       "</tr>\n",
       "<tr>\n",
       "  <th>CROSS_SELL_SUCCESS</th>              <td>   -0.0099</td> <td>    0.005</td> <td>   -2.005</td> <td> 0.045</td> <td>   -0.020</td> <td>   -0.000</td>\n",
       "</tr>\n",
       "<tr>\n",
       "  <th>UNIQUE_MEALS_PURCH</th>              <td>    0.0484</td> <td>    0.003</td> <td>   17.528</td> <td> 0.000</td> <td>    0.043</td> <td>    0.054</td>\n",
       "</tr>\n",
       "<tr>\n",
       "  <th>LOG_CONTACTS_W_CUSTOMER_SERVICE</th> <td>    0.1714</td> <td>    0.019</td> <td>    8.926</td> <td> 0.000</td> <td>    0.134</td> <td>    0.209</td>\n",
       "</tr>\n",
       "<tr>\n",
       "  <th>MASTER_CLASSES_ATTENDED</th>         <td>    0.0280</td> <td>    0.004</td> <td>    6.744</td> <td> 0.000</td> <td>    0.020</td> <td>    0.036</td>\n",
       "</tr>\n",
       "</table>\n",
       "<table class=\"simpletable\">\n",
       "<tr>\n",
       "  <th>Omnibus:</th>       <td>337.694</td> <th>  Durbin-Watson:     </th> <td>   2.030</td>\n",
       "</tr>\n",
       "<tr>\n",
       "  <th>Prob(Omnibus):</th> <td> 0.000</td>  <th>  Jarque-Bera (JB):  </th> <td>1850.867</td>\n",
       "</tr>\n",
       "<tr>\n",
       "  <th>Skew:</th>          <td>-0.701</td>  <th>  Prob(JB):          </th> <td>    0.00</td>\n",
       "</tr>\n",
       "<tr>\n",
       "  <th>Kurtosis:</th>      <td> 7.568</td>  <th>  Cond. No.          </th> <td>1.69e+03</td>\n",
       "</tr>\n",
       "</table><br/><br/>Warnings:<br/>[1] Standard Errors assume that the covariance matrix of the errors is correctly specified.<br/>[2] The condition number is large, 1.69e+03. This might indicate that there are<br/>strong multicollinearity or other numerical problems."
      ],
      "text/plain": [
       "<class 'statsmodels.iolib.summary.Summary'>\n",
       "\"\"\"\n",
       "                            OLS Regression Results                            \n",
       "==============================================================================\n",
       "Dep. Variable:            LOG_REVENUE   R-squared:                       0.777\n",
       "Model:                            OLS   Adj. R-squared:                  0.776\n",
       "Method:                 Least Squares   F-statistic:                     517.8\n",
       "Date:                Tue, 09 Feb 2021   Prob (F-statistic):               0.00\n",
       "Time:                        19:41:18   Log-Likelihood:                 1719.7\n",
       "No. Observations:                1946   AIC:                            -3411.\n",
       "Df Residuals:                    1932   BIC:                            -3333.\n",
       "Df Model:                          13                                         \n",
       "Covariance Type:            nonrobust                                         \n",
       "===================================================================================================\n",
       "                                      coef    std err          t      P>|t|      [0.025      0.975]\n",
       "---------------------------------------------------------------------------------------------------\n",
       "Intercept                           1.5521      0.060     26.079      0.000       1.435       1.669\n",
       "LOG_TOTAL_MEALS_ORDERED            -0.6414      0.092     -6.956      0.000      -0.822      -0.461\n",
       "LOG_ACTUAL_ORDERS                   0.2536      0.085      2.977      0.003       0.087       0.421\n",
       "LOG_AVG_PREP_VID_TIME               0.5571      0.033     16.740      0.000       0.492       0.622\n",
       "MEDIAN_MEAL_RATING                  0.0416      0.005      9.171      0.000       0.033       0.051\n",
       "HIGH_TOTAL_MEALS_ORDERED            0.0850      0.011      7.755      0.000       0.063       0.106\n",
       "SQUARED_MEDIAN_MEAL_RATING          0.0145      0.002      8.814      0.000       0.011       0.018\n",
       "AVG_NB_MEALS                       -0.0169      0.003     -6.647      0.000      -0.022      -0.012\n",
       "PHOTOS_VIEWED_PER_LOGIN             0.0006   9.94e-05      5.659      0.000       0.000       0.001\n",
       "LOG_UNIQUE_ORDERS                  -0.5862      0.025    -23.042      0.000      -0.636      -0.536\n",
       "CROSS_SELL_SUCCESS                 -0.0099      0.005     -2.005      0.045      -0.020      -0.000\n",
       "UNIQUE_MEALS_PURCH                  0.0484      0.003     17.528      0.000       0.043       0.054\n",
       "LOG_CONTACTS_W_CUSTOMER_SERVICE     0.1714      0.019      8.926      0.000       0.134       0.209\n",
       "MASTER_CLASSES_ATTENDED             0.0280      0.004      6.744      0.000       0.020       0.036\n",
       "==============================================================================\n",
       "Omnibus:                      337.694   Durbin-Watson:                   2.030\n",
       "Prob(Omnibus):                  0.000   Jarque-Bera (JB):             1850.867\n",
       "Skew:                          -0.701   Prob(JB):                         0.00\n",
       "Kurtosis:                       7.568   Cond. No.                     1.69e+03\n",
       "==============================================================================\n",
       "\n",
       "Warnings:\n",
       "[1] Standard Errors assume that the covariance matrix of the errors is correctly specified.\n",
       "[2] The condition number is large, 1.69e+03. This might indicate that there are\n",
       "strong multicollinearity or other numerical problems.\n",
       "\"\"\""
      ]
     },
     "execution_count": 33,
     "metadata": {},
     "output_type": "execute_result"
    }
   ],
   "source": [
    "lm_fit = smf.ols(formula = \"\"\"LOG_REVENUE ~ LOG_TOTAL_MEALS_ORDERED +\n",
    "                                LOG_ACTUAL_ORDERS +\n",
    "                                LOG_AVG_PREP_VID_TIME +\n",
    "                                MEDIAN_MEAL_RATING +\n",
    "                                HIGH_TOTAL_MEALS_ORDERED +\n",
    "                                SQUARED_MEDIAN_MEAL_RATING +\n",
    "                                AVG_NB_MEALS +\n",
    "                                PHOTOS_VIEWED_PER_LOGIN +\n",
    "                                LOG_UNIQUE_ORDERS +\n",
    "                                CROSS_SELL_SUCCESS +\n",
    "                                UNIQUE_MEALS_PURCH +\n",
    "                                LOG_CONTACTS_W_CUSTOMER_SERVICE +\n",
    "                                MASTER_CLASSES_ATTENDED\n",
    "                                \"\"\",\n",
    "                               data = chef)\n",
    "\n",
    "\n",
    "# telling Python to run the data through the blueprint\n",
    "results_fit = lm_fit.fit()\n",
    "\n",
    "\n",
    "# printing the results\n",
    "results_fit.summary()"
   ]
  },
  {
   "cell_type": "code",
   "execution_count": 34,
   "metadata": {},
   "outputs": [],
   "source": [
    "# declaring set of x-variables\n",
    "x_variables = ['LOG_TOTAL_MEALS_ORDERED',\n",
    "                'LOG_ACTUAL_ORDERS',\n",
    "                'LOG_AVG_PREP_VID_TIME',\n",
    "                'MEDIAN_MEAL_RATING',\n",
    "                'HIGH_TOTAL_MEALS_ORDERED',\n",
    "                'SQUARED_MEDIAN_MEAL_RATING',\n",
    "                'AVG_NB_MEALS',\n",
    "                'PHOTOS_VIEWED_PER_LOGIN',\n",
    "                'LOG_UNIQUE_ORDERS',\n",
    "                'CROSS_SELL_SUCCESS',\n",
    "                'UNIQUE_MEALS_PURCH',\n",
    "                'LOG_CONTACTS_W_CUSTOMER_SERVICE',\n",
    "                'MASTER_CLASSES_ATTENDED']"
   ]
  },
  {
   "cell_type": "code",
   "execution_count": 35,
   "metadata": {},
   "outputs": [
    {
     "name": "stdout",
     "output_type": "stream",
     "text": [
      "\n",
      "Training Data\n",
      "-------------\n",
      "X-side: (1459, 52)\n",
      "y-side: (1459,)\n",
      "\n",
      "\n",
      "Testing Data\n",
      "------------\n",
      "X-side: (487, 52)\n",
      "y-side: (487,)\n",
      "\n"
     ]
    }
   ],
   "source": [
    "# preparing explanatory variable data\n",
    "chef_data   = chef.drop(['NAME', 'EMAIL', 'FIRST_NAME', 'FAMILY_NAME', 'EMAIL_DOMAIN',\n",
    "                                         'M_FAMILY_NAME', 'REVENUE', 'LOG_REVENUE', 'TOTAL_MEALS_ORDERED',\n",
    "                                         'LOG_UNIQUE_MEALS_PURCH', 'CONTACTS_W_CUSTOMER_SERVICE', \n",
    "                                         'AVG_TIME_PER_SITE_VISIT','AVG_PREP_VID_TIME', 'LOG_AVG_NB_MEALS', \n",
    "                                         'LOG_MEDIAN_MEAL_RATING','LOG_AVG_CLICKS_PER_VISIT', 'TOTAL_ORDERS', \n",
    "                                         'TIME_SPENT_ON_WEBSITE', 'ACTUAL_ORDERS','UNIQUE_ORDERS'], axis = 1)\n",
    "\n",
    "# preparing x-variables from the OLS model\n",
    "ols_data = chef.loc[:, x_variables]\n",
    "\n",
    "# preparing response variables\n",
    "chef_target = chef.loc[ : , 'REVENUE']\n",
    "log_chef_target = chef.loc[ : , 'LOG_REVENUE']\n",
    "\n",
    "\n",
    "# preparing training and testing sets (all letters are lowercase)\n",
    "x_train, x_test, y_train, y_test = train_test_split(\n",
    "            chef_data,\n",
    "            chef_target,\n",
    "            test_size = 0.25,\n",
    "            random_state = 219)\n",
    "\n",
    "\n",
    "# checking the shapes of the datasets\n",
    "print(f\"\"\"\n",
    "Training Data\n",
    "-------------\n",
    "X-side: {x_train.shape}\n",
    "y-side: {y_train.shape}\n",
    "\n",
    "\n",
    "Testing Data\n",
    "------------\n",
    "X-side: {x_test.shape}\n",
    "y-side: {y_test.shape}\n",
    "\"\"\")"
   ]
  },
  {
   "cell_type": "code",
   "execution_count": 36,
   "metadata": {},
   "outputs": [],
   "source": [
    "###############################################\n",
    "## setting up more than one train-test split ##\n",
    "###############################################\n",
    "# FULL X-dataset (normal Y) - Lasso\n",
    "x_train_FULL_LA, x_test_FULL_LA, y_train_FULL_LA, y_test_FULL_LA = train_test_split(\n",
    "            chef_data,     # x-variables\n",
    "            chef_target,   # y-variable\n",
    "            test_size = 0.25,\n",
    "            random_state = 219)\n",
    "\n",
    "# FULL X-dataset (normal Y) - ARD\n",
    "x_train_FULL, x_test_FULL, y_train_FULL, y_test_FULL = train_test_split(\n",
    "            chef_data,     # x-variables\n",
    "            log_chef_target,   # y-variable\n",
    "            test_size = 0.25,\n",
    "            random_state = 219)\n",
    "\n",
    "\n",
    "# OLS p-value x-dataset (Log Y)\n",
    "x_train_OLS, x_test_OLS, y_train_OLS, y_test_OLS = train_test_split(\n",
    "            ols_data,         # x-variables\n",
    "            log_chef_target,   # y-variable\n",
    "            test_size = 0.25,\n",
    "            random_state = 219)"
   ]
  },
  {
   "cell_type": "markdown",
   "metadata": {},
   "source": [
    "### Ordinary Least Squares Regression Model"
   ]
  },
  {
   "cell_type": "code",
   "execution_count": 37,
   "metadata": {},
   "outputs": [],
   "source": [
    "# INSTANTIATING a model object\n",
    "lr = sklearn.linear_model.LinearRegression()\n",
    "\n",
    "\n",
    "# FITTING to the training data\n",
    "lr_fit = lr.fit(x_train_OLS, y_train_OLS)\n",
    "\n",
    "\n",
    "# PREDICTING on new data\n",
    "lr_pred = lr_fit.predict(x_test_OLS)\n",
    "\n",
    "\n",
    "# SCORING the results\n",
    "#cprint('OLS Training Score :', lr.score(x_train_OLS, y_train_OLS).round(4))  # using R-square\n",
    "# print('OLS Testing Score  :',  lr.score(x_test_OLS, y_test_OLS).round(4)) # using R-square\n",
    "\n",
    "lr_train_score = lr.score(x_train_OLS, y_train_OLS).round(4)\n",
    "lr_test_score = lr.score(x_test_OLS, y_test_OLS).round(4)\n",
    "\n",
    "\n",
    "# displaying and saving the gap between training and testing\n",
    "# print('OLS Train-Test Gap :', abs(lr_train_score - lr_test_score).round(4))\n",
    "lr_test_gap = abs(lr_train_score - lr_test_score).round(4)"
   ]
  },
  {
   "cell_type": "code",
   "execution_count": 38,
   "metadata": {},
   "outputs": [],
   "source": [
    "# zipping each feature name to its coefficient\n",
    "lr_model_values = zip(chef_data[x_variables].columns,\n",
    "                      lr_fit.coef_.round(decimals = 2))\n",
    "\n",
    "\n",
    "# setting up a placeholder list to store model features\n",
    "lr_model_lst = [('intercept', lr_fit.intercept_.round(decimals = 2))]\n",
    "\n",
    "\n",
    "# printing out each feature-coefficient pair one by one\n",
    "for val in lr_model_values:\n",
    "    lr_model_lst.append(val)\n",
    "    \n",
    "\n",
    "# checking the results\n",
    "# for pair in lr_model_lst:\n",
    "#    print(pair)"
   ]
  },
  {
   "cell_type": "markdown",
   "metadata": {},
   "source": [
    "### Lasso Regression Model"
   ]
  },
  {
   "cell_type": "code",
   "execution_count": 39,
   "metadata": {},
   "outputs": [],
   "source": [
    "# INSTANTIATING a model object\n",
    "lasso_model = sklearn.linear_model.Lasso(alpha = 1.0,\n",
    "                                         normalize = True) # default magitude\n",
    "\n",
    "\n",
    "# FITTING to the training data\n",
    "lasso_fit = lasso_model.fit(x_train_FULL_LA, y_train_FULL_LA)\n",
    "\n",
    "\n",
    "# PREDICTING on new data\n",
    "lasso_pred = lasso_fit.predict(x_test_FULL_LA)\n",
    "\n",
    "\n",
    "# SCORING the results\n",
    "# print('Lasso Training Score :', lasso_model.score(x_train_FULL_LA, y_train_FULL_LA).round(4))\n",
    "# print('Lasso Testing Score  :', lasso_model.score(x_test_FULL_LA, y_test_FULL_LA).round(4))\n",
    "\n",
    "\n",
    "## the following code has been provided for you ##\n",
    "\n",
    "# saving scoring data for future use\n",
    "lasso_train_score = lasso_model.score(x_train_FULL_LA, y_train_FULL_LA).round(4) # using R-square\n",
    "lasso_test_score  = lasso_model.score(x_test_FULL_LA, y_test_FULL_LA).round(4)   # using R-square\n",
    "\n",
    "\n",
    "# displaying and saving the gap between training and testing\n",
    "# print('Lasso Train-Test Gap :', abs(lr_train_score - lr_test_score).round(4))\n",
    "lasso_test_gap = abs(lr_train_score - lr_test_score).round(4)"
   ]
  },
  {
   "cell_type": "code",
   "execution_count": 40,
   "metadata": {},
   "outputs": [],
   "source": [
    "# zipping each feature name to its coefficient\n",
    "lasso_model_values = zip(chef_data.columns, lasso_fit.coef_.round(decimals = 2))\n",
    "\n",
    "\n",
    "# setting up a placeholder list to store model features\n",
    "lasso_model_lst = [('intercept', lasso_fit.intercept_.round(decimals = 2))]\n",
    "\n",
    "\n",
    "# printing out each feature-coefficient pair one by one\n",
    "for val in lasso_model_values:\n",
    "    lasso_model_lst.append(val)\n",
    "    \n",
    "\n",
    "# checking the results\n",
    "# for pair in lasso_model_lst:\n",
    "#    print(pair)"
   ]
  },
  {
   "cell_type": "code",
   "execution_count": 41,
   "metadata": {},
   "outputs": [],
   "source": [
    "## This code may have to be run more than once ##\n",
    "\n",
    "# dropping coefficients that are equal to zero\n",
    "\n",
    "# printing out each feature-coefficient pair one by one\n",
    "for feature, coefficient in lasso_model_lst:\n",
    "        \n",
    "        if coefficient == 0:\n",
    "            lasso_model_lst.remove((feature, coefficient))\n",
    "\n",
    "# checking the results\n",
    "# for pair in lasso_model_lst:\n",
    "#    print(pair)"
   ]
  },
  {
   "cell_type": "markdown",
   "metadata": {},
   "source": [
    "### Bayesian Automatic Relevance Determination Model"
   ]
  },
  {
   "cell_type": "code",
   "execution_count": 42,
   "metadata": {},
   "outputs": [],
   "source": [
    "# INSTANTIATING a model object\n",
    "ard_model = sklearn.linear_model.ARDRegression(normalize = False)\n",
    "\n",
    "\n",
    "# FITTING the training data\n",
    "ard_fit = ard_model.fit(x_train_FULL, y_train_FULL)\n",
    "\n",
    "\n",
    "# PREDICTING on new data\n",
    "ard_pred = ard_fit.predict(x_test_FULL)\n",
    "\n",
    "\n",
    "# print('Training Score:', ard_model.score(x_train_FULL, y_train_FULL).round(4))\n",
    "# print('Testing Score :',  ard_model.score(x_test_FULL, y_test_FULL).round(4))\n",
    "\n",
    "\n",
    "# saving scoring data for future use\n",
    "ard_train_score = ard_model.score(x_train_FULL, y_train_FULL).round(4)\n",
    "ard_test_score  = ard_model.score(x_test_FULL, y_test_FULL).round(4)\n",
    "\n",
    "\n",
    "# displaying and saving the gap between training and testing\n",
    "# print('ARD Train-Test Gap :', abs(ard_train_score - ard_test_score).round(4))\n",
    "ard_test_gap = abs(ard_train_score - ard_test_score).round(4)"
   ]
  },
  {
   "cell_type": "code",
   "execution_count": 43,
   "metadata": {},
   "outputs": [],
   "source": [
    "# zipping each feature name to its coefficient\n",
    "ard_model_values = zip(chef_data.columns, ard_fit.coef_.round(decimals = 5))\n",
    "\n",
    "\n",
    "# setting up a placeholder list to store model features\n",
    "ard_model_lst = [('intercept', ard_fit.intercept_.round(decimals = 2))]\n",
    "\n",
    "\n",
    "# printing out each feature-coefficient pair one by one\n",
    "for val in ard_model_values:\n",
    "    ard_model_lst.append(val)\n",
    "    \n",
    "\n",
    "# checking the results\n",
    "# for pair in ard_model_lst:\n",
    "#    print(pair)"
   ]
  },
  {
   "cell_type": "code",
   "execution_count": 44,
   "metadata": {},
   "outputs": [],
   "source": [
    "## This code may have to be run more than once ##\n",
    "\n",
    "# dropping coefficients that are equal to zero\n",
    "\n",
    "# printing out each feature-coefficient pair one by one\n",
    "for feature, coefficient in ard_model_lst:\n",
    "        \n",
    "        if coefficient == 0:\n",
    "            ard_model_lst.remove((feature, coefficient))\n",
    "\n",
    "            \n",
    "# checking the results\n",
    "# for pair in ard_model_lst:\n",
    "#    print(pair)"
   ]
  },
  {
   "cell_type": "markdown",
   "metadata": {},
   "source": [
    "### K-Nearest Neighbors Regression with Standardized Data"
   ]
  },
  {
   "cell_type": "code",
   "execution_count": 45,
   "metadata": {},
   "outputs": [],
   "source": [
    "# INSTANTIATING a StandardScaler() object\n",
    "scaler = StandardScaler()\n",
    "\n",
    "\n",
    "# FITTING the scaler with housing_data\n",
    "scaler.fit(chef_data)\n",
    "\n",
    "\n",
    "# TRANSFORMING our data after fit\n",
    "X_scaled = scaler.transform(chef_data)\n",
    "\n",
    "\n",
    "# converting scaled data into a DataFrame\n",
    "X_scaled_df = pd.DataFrame(X_scaled)\n",
    "\n",
    "# KNN Standardized Data dataset\n",
    "X_train_STAND, X_test_STAND, y_train_STAND, y_test_STAND = train_test_split(\n",
    "            X_scaled_df,\n",
    "            chef_target,\n",
    "            test_size = 0.25,\n",
    "            random_state = 219)"
   ]
  },
  {
   "cell_type": "code",
   "execution_count": 46,
   "metadata": {},
   "outputs": [
    {
     "name": "stdout",
     "output_type": "stream",
     "text": [
      "The optimal number of neighbors is 6\n"
     ]
    }
   ],
   "source": [
    "# creating lists for training set accuracy and test set accuracy\n",
    "training_accuracy = []\n",
    "test_accuracy     = []\n",
    "\n",
    "\n",
    "# building a visualization of 1 to 50 neighbors\n",
    "neighbors_settings = range(1, 51)\n",
    "\n",
    "\n",
    "for n_neighbors in neighbors_settings:\n",
    "    # Building the model\n",
    "    clf = KNeighborsRegressor(n_neighbors = n_neighbors)\n",
    "    clf.fit(X_train_STAND, y_train_STAND)\n",
    "    \n",
    "    # Recording the training set accuracy\n",
    "    training_accuracy.append(clf.score(X_train_STAND, y_train_STAND))\n",
    "    \n",
    "    # Recording the generalization accuracy\n",
    "    test_accuracy.append(clf.score(X_test_STAND, y_test_STAND))\n",
    "\n",
    "\n",
    "# finding the optimal number of neighbors\n",
    "opt_neighbors = test_accuracy.index(max(test_accuracy)) + 1\n",
    "print(f\"\"\"The optimal number of neighbors is {opt_neighbors}\"\"\")"
   ]
  },
  {
   "cell_type": "code",
   "execution_count": 47,
   "metadata": {},
   "outputs": [
    {
     "name": "stdout",
     "output_type": "stream",
     "text": [
      "KNN Training Score: 0.709\n",
      "KNN Testing Score : 0.6403\n",
      "KNN Train-Test Gap: 0.0687\n"
     ]
    }
   ],
   "source": [
    "# INSTANTIATING a KNN model object\n",
    "knn_reg = KNeighborsRegressor(algorithm = 'auto',\n",
    "                              n_neighbors = 6)\n",
    "\n",
    "\n",
    "# FITTING to the training data\n",
    "knn_fit = knn_reg.fit(X_train_STAND, y_train_STAND)\n",
    "\n",
    "\n",
    "# PREDICTING on new data\n",
    "knn_reg_pred = knn_fit.predict(X_test_STAND)\n",
    "\n",
    "\n",
    "# SCORING the results\n",
    "print('KNN Training Score:', knn_reg.score(X_train_STAND, y_train_STAND).round(4))\n",
    "print('KNN Testing Score :',  knn_reg.score(X_test_STAND, y_test_STAND).round(4))\n",
    "\n",
    "\n",
    "# saving scoring data for future use\n",
    "knn_reg_score_train = knn_reg.score(X_train_STAND, y_train_STAND).round(4)\n",
    "knn_reg_score_test  = knn_reg.score(X_test_STAND, y_test_STAND).round(4)\n",
    "\n",
    "\n",
    "# displaying and saving the gap between training and testing\n",
    "print('KNN Train-Test Gap:', abs(knn_reg_score_train - knn_reg_score_test).round(4))\n",
    "knn_reg_test_gap = abs(knn_reg_score_train - knn_reg_score_test).round(4)"
   ]
  },
  {
   "cell_type": "markdown",
   "metadata": {},
   "source": [
    "## Final Model Output"
   ]
  },
  {
   "cell_type": "code",
   "execution_count": 48,
   "metadata": {},
   "outputs": [
    {
     "name": "stdout",
     "output_type": "stream",
     "text": [
      "\n",
      "\n",
      "MODEL OUTPUTS\n",
      "-------------\n",
      "\n",
      "Model        Train Score      Test Score      Score Gap       Model Size\n",
      "-----        -----------      ----------      ----------      ----------\n",
      "OLS (final)   0.7765           0.7731          0.0034          14\n",
      "Lasso         0.6802           0.696           0.0034          31\n",
      "ARD           0.7788           0.7716          0.0072          33\n",
      "KNN Std       0.709            0.6403          0.0687          NA\n",
      "\n",
      "\n",
      "** The best model is OLS with a test score of 0.7731 and a train test gap of 0.0034. The model size is 14.**\n",
      "\n",
      "Please see coefficients for each model type below: \n",
      "\n",
      "    Model Type                                              Model\n",
      "0  OLS (final)  [(intercept, 1.58), (LOG_TOTAL_MEALS_ORDERED, ...\n",
      "1        Lasso  [(intercept, -4239.15), (CROSS_SELL_SUCCESS, -...\n",
      "2          ARD  [(intercept, 1.57), (CROSS_SELL_SUCCESS, -0.00...\n",
      "3      KNN Std                                                 NA\n",
      "\n"
     ]
    }
   ],
   "source": [
    "# creating a dictionary for model results\n",
    "model_performance = {\n",
    "    \n",
    "    'Model Type'    : ['OLS (final)', 'Lasso', 'ARD', 'KNN Std'],\n",
    "           \n",
    "    'Training' : [lr_train_score, lasso_train_score,\n",
    "                                   ard_train_score, knn_reg_score_train],\n",
    "           \n",
    "    'Testing'  : [lr_test_score, lasso_test_score,\n",
    "                                   ard_test_score, knn_reg_score_test],\n",
    "                    \n",
    "    'Train-Test Gap' : [lr_test_gap, lasso_test_gap,\n",
    "                                        ard_test_gap, knn_reg_test_gap],\n",
    "                    \n",
    "    'Model Size' : [len(lr_model_lst), len(lasso_model_lst),\n",
    "                                    len(ard_model_lst), 'NA'],\n",
    "                    \n",
    "    'Model' : [lr_model_lst, lasso_model_lst, ard_model_lst, 'NA']}\n",
    "\n",
    "\n",
    "# converting model_performance into a DataFrame\n",
    "model_performance = pd.DataFrame(model_performance)\n",
    "\n",
    "# sending model results to Excel\n",
    "model_performance.to_excel('./linear_model_performance.xlsx',\n",
    "                           index = False)\n",
    "\n",
    "# comparing results\n",
    "\n",
    "print(f\"\"\"\n",
    "\n",
    "MODEL OUTPUTS\n",
    "-------------\n",
    "\n",
    "Model        Train Score      Test Score      Score Gap       Model Size\n",
    "-----        -----------      ----------      ----------      ----------\n",
    "OLS (final)   {lr_train_score}           {lr_test_score}          {lr_test_gap}          {len(lr_model_lst)}\n",
    "Lasso         {lasso_train_score}           {lasso_test_score}           {lasso_test_gap}          {len(lasso_model_lst)}\n",
    "ARD           {ard_train_score}           {ard_test_score}          {ard_test_gap}          {len(ard_model_lst)}\n",
    "KNN Std       {knn_reg_score_train}            {knn_reg_score_test}          {knn_reg_test_gap}          NA\n",
    "\n",
    "\n",
    "** The best model is OLS with a test score of 0.7731 and a train test gap of 0.0034. The model size is 14.**\n",
    "\n",
    "Please see coefficients for each model type below: \n",
    "\n",
    "{model_performance[['Model Type', 'Model']]}\n",
    "\"\"\")\n",
    "\n",
    "\n",
    "\n"
   ]
  }
 ],
 "metadata": {
  "kernelspec": {
   "display_name": "Python 3",
   "language": "python",
   "name": "python3"
  },
  "language_info": {
   "codemirror_mode": {
    "name": "ipython",
    "version": 3
   },
   "file_extension": ".py",
   "mimetype": "text/x-python",
   "name": "python",
   "nbconvert_exporter": "python",
   "pygments_lexer": "ipython3",
   "version": "3.8.3"
  },
  "toc": {
   "base_numbering": 1,
   "nav_menu": {},
   "number_sections": false,
   "sideBar": true,
   "skip_h1_title": false,
   "title_cell": "Table of Contents",
   "title_sidebar": "Contents",
   "toc_cell": false,
   "toc_position": {
    "height": "calc(100% - 180px)",
    "left": "10px",
    "top": "150px",
    "width": "230.188px"
   },
   "toc_section_display": true,
   "toc_window_display": true
  },
  "varInspector": {
   "cols": {
    "lenName": 16,
    "lenType": 16,
    "lenVar": 40
   },
   "kernels_config": {
    "python": {
     "delete_cmd_postfix": "",
     "delete_cmd_prefix": "del ",
     "library": "var_list.py",
     "varRefreshCmd": "print(var_dic_list())"
    },
    "r": {
     "delete_cmd_postfix": ") ",
     "delete_cmd_prefix": "rm(",
     "library": "var_list.r",
     "varRefreshCmd": "cat(var_dic_list()) "
    }
   },
   "types_to_exclude": [
    "module",
    "function",
    "builtin_function_or_method",
    "instance",
    "_Feature"
   ],
   "window_display": false
  }
 },
 "nbformat": 4,
 "nbformat_minor": 4
}
